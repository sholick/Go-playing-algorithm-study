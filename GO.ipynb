{
  "nbformat": 4,
  "nbformat_minor": 0,
  "metadata": {
    "colab": {
      "name": "GO.ipynb",
      "provenance": [],
      "collapsed_sections": []
    },
    "kernelspec": {
      "name": "python3",
      "display_name": "Python 3"
    }
  },
  "cells": [
    {
      "cell_type": "code",
      "metadata": {
        "id": "V4wemanBNcDD"
      },
      "source": [
        "import numpy as np\n",
        "import copy\n",
        "import random as rd\n",
        "import cProfile\n",
        "import pstats\n",
        "import timeit\n",
        "SIZE = 5\n"
      ],
      "execution_count": null,
      "outputs": []
    },
    {
      "cell_type": "code",
      "metadata": {
        "id": "0Dd8fo3Rp4SM",
        "colab": {
          "base_uri": "https://localhost:8080/"
        },
        "outputId": "4168c3aa-0935-48ec-d61a-bedace97714d"
      },
      "source": [
        "i = [(1,2),(2,3),(3,4)]\n",
        "_dic = {}\n",
        "for j in i:\n",
        "  _dic[j] = True\n",
        "\n",
        "_dic.get(i[0])"
      ],
      "execution_count": null,
      "outputs": [
        {
          "output_type": "execute_result",
          "data": {
            "text/plain": [
              "True"
            ]
          },
          "metadata": {
            "tags": []
          },
          "execution_count": 2
        }
      ]
    },
    {
      "cell_type": "code",
      "metadata": {
        "id": "DiaDkRc4NoSu",
        "colab": {
          "base_uri": "https://localhost:8080/"
        },
        "outputId": "4d13e561-2d18-4ff0-c988-337f836bfc51"
      },
      "source": [
        "b = np.matrix('''\n",
        "1 0 -1 1 1;\n",
        "-1 1 0 0 1;\n",
        "1 0 1 1 -1;\n",
        "0 0 0 1 0;\n",
        "0 0 0 0 -1\n",
        "''')\n",
        "bl = (np.logical_not(b.ravel()).tolist()[0])\n",
        "#wh = list((b.ravel() == 1))[0]\n",
        "#bll = (b.ravel() == 0).tolist()[0]\n",
        "#wh = list(b1.flatten() == 1)\n",
        "#bl = b.flatten() == 0\n",
        "#wh = b.flatten() == 1\n",
        "print(bl)\n",
        "#print(bll)\n",
        "#print(wh)\n",
        "#print(bl==wh)\n",
        "#print(store)\n",
        "se = \"\"\"import numpy as np\n",
        "b = np.matrix('''\n",
        "1 0 -1 1 1;\n",
        "-1 1 0 0 1;\n",
        "1 0 1 1 -1;\n",
        "0 0 0 1 0;\n",
        "0 0 0 0 -1\n",
        "''')\n",
        "bl = (b.flatten() == 0).tolist()[0]\n",
        "wh = (b.flatten() == 1).tolist()[0]\n",
        "\"\"\"\n",
        "print(b.ravel() == 0)\n",
        "print(timeit.timeit(setup = se,\n",
        "                    stmt = 'np.logical_not(b.ravel()).tolist()[0]',\n",
        "                    number = 10000))"
      ],
      "execution_count": null,
      "outputs": [
        {
          "output_type": "stream",
          "text": [
            "[False, True, False, False, False, False, False, True, True, False, False, True, False, False, False, True, True, True, False, True, True, True, True, True, False]\n",
            "[[False  True False False False False False  True  True False False  True\n",
            "  False False False  True  True  True False  True  True  True  True  True\n",
            "  False]]\n",
            "0.0679050760000166\n"
          ],
          "name": "stdout"
        }
      ]
    },
    {
      "cell_type": "code",
      "metadata": {
        "id": "EJEuA0_aN5l4",
        "colab": {
          "base_uri": "https://localhost:8080/",
          "height": 522
        },
        "outputId": "607b4876-1070-41d4-a48e-377bcf674afa"
      },
      "source": [
        "print(val_matrix(game3.board.tolist(), 1, []))\n",
        "game3.display()"
      ],
      "execution_count": null,
      "outputs": [
        {
          "output_type": "stream",
          "text": [
            "[(1, 1), (0, 2), (0, 0)]\n",
            "{(1, 1): True} True\n",
            "{(0, 2): True} True\n",
            "{(0, 0): True} False\n",
            "[(0, 2)]\n",
            "{(0, 2): True} True\n",
            "[(0, 2), (1, 1)]\n",
            "{(0, 2): True} True\n",
            "{(1, 1): True} True\n",
            "[]\n",
            "[(1, 1)]\n",
            "{(1, 1): True} True\n",
            "[]\n",
            "[]\n",
            "[]\n",
            "[]\n",
            "[]\n",
            "[]\n",
            "([[-inf, 1, -inf, 0], [-inf, -inf, 0, 0], [-inf, 0, 0, 0], [0, 0, 0, 0]], [[False, [[-1, 1, 0, -1], [1, 0, -1, -1], [1, -1, -1, -1], [-1, -1, -1, -1]], False, [[0, -1, 0, 1], [1, 0, -1, -1], [1, -1, -1, -1], [-1, -1, -1, -1]]], [False, False, [[0, -1, 0, -1], [1, 0, 1, -1], [1, -1, -1, -1], [-1, -1, -1, -1]], [[0, -1, 0, -1], [1, 0, -1, 1], [1, -1, -1, -1], [-1, -1, -1, -1]]], [False, [[0, -1, 0, -1], [1, 0, -1, -1], [1, 1, -1, -1], [-1, -1, -1, -1]], [[0, -1, 0, -1], [1, 0, -1, -1], [1, -1, 1, -1], [-1, -1, -1, -1]], [[0, -1, 0, -1], [1, 0, -1, -1], [1, -1, -1, 1], [-1, -1, -1, -1]]], [[[0, -1, 0, -1], [1, 0, -1, -1], [1, -1, -1, -1], [1, -1, -1, -1]], [[0, -1, 0, -1], [1, 0, -1, -1], [1, -1, -1, -1], [-1, 1, -1, -1]], [[0, -1, 0, -1], [1, 0, -1, -1], [1, -1, -1, -1], [-1, -1, 1, -1]], [[0, -1, 0, -1], [1, 0, -1, -1], [1, -1, -1, -1], [-1, -1, -1, 1]]]])\n",
            "\n",
            "Score: B/1  W/0\n",
            "x - x - \n",
            "o x - - \n",
            "o - - - \n",
            "- - - - \n",
            "\n"
          ],
          "name": "stdout"
        }
      ]
    },
    {
      "cell_type": "code",
      "metadata": {
        "id": "jLIGAVVLXLVs"
      },
      "source": [
        "def cluster(board, tup, liberty=False):      # Find the cluster starting from x,y recursively and determine whether this group is alive or dead\n",
        "\n",
        "  SIZE = len(board)\n",
        "  x, y = tup\n",
        "  target = board[x][y]\n",
        "  toDo = [[x,y]]\n",
        "  record = {tup : True}\n",
        "  #record[tup] = True\n",
        "\n",
        "  while toDo:\n",
        "    nx = toDo[0][0]\n",
        "    ny = toDo[0][1]\n",
        "    toTry = [(nx-1,ny), (nx+1,ny), (nx,ny-1), (nx,ny+1)]\n",
        "    for i in toTry:\n",
        "      if i[0] >= 0 and i[0] < SIZE and i[1] >= 0 and i[1] < SIZE:\n",
        "        if board[i[0]][i[1]] == target:\n",
        "          if not record.get(i):\n",
        "            toDo.append(i)\n",
        "            record[i] = True\n",
        "        elif not liberty and board[i[0]][i[1]] == -1:\n",
        "          liberty = True\n",
        "\n",
        "    toDo = toDo[1:]\n",
        "  return record, liberty\n",
        "\n",
        "\n",
        "def outcome(board, x, y):      # Determine the impact of a move placed at x,y in terms of immediate capture, and the subsequent board after deleting dead clusters\n",
        "\n",
        "  result = 0\n",
        "  check = not board[x][y]\n",
        "  toVisit = []\n",
        "  suicide = True\n",
        "  SIZE = len(board)\n",
        "                \n",
        "  for i in [(x+1,y), (x-1,y), (x,y+1), (x,y-1)]:\n",
        "    if i[0] >= 0 and i[0] < SIZE and i[1] >= 0 and i[1] < SIZE:\n",
        "      if board[i[0]][i[1]] == check:\n",
        "        toVisit.append(i)     \n",
        "      elif board[i[0]][i[1]] == -1 and suicide:\n",
        "        suicide = False\n",
        "\n",
        "  #print(toVisit)\n",
        "  visited = {}\n",
        "  dead = {}\n",
        "  for i in toVisit:\n",
        "    if not visited.get(i):\n",
        "      group, alive = cluster(board, i)\n",
        "      visited.update(group)\n",
        "      if not alive:\n",
        "        result += len(group)\n",
        "        dead.update(group)\n",
        "  \n",
        "  if not result and suicide:\n",
        "    #if not visited.get((x, y)):\n",
        "    group, alive = cluster(board, (x, y))\n",
        "    if not alive:\n",
        "      result = -len(group)\n",
        "      dead = group\n",
        "  \n",
        "  for i in dead:\n",
        "    board[i[0]][i[1]] = -1\n",
        "\n",
        "  return result, board\n",
        "\n",
        "\n",
        "def checkHistory(board, history):     #check if the position has appeared in the last 5 steps\n",
        "  cBoard = compressor(board)\n",
        "  for i in history[-5:]:\n",
        "    if cBoard[0] == i[0] and cBoard[1] == i[1]:\n",
        "      return True\n",
        "  return False\n",
        "\n",
        "\n",
        "def val_matrix(board, turn, history):    #return a matrix of playable locations and their instant value\n",
        "\n",
        "  n = len(board)\n",
        "  result = [[float('-inf')] * n for i in range(n)]\n",
        "  outBoard = []\n",
        "\n",
        "  for x in range(n):\n",
        "    Row = [False] * n\n",
        "    for y in range(n):\n",
        "      tmp = [[i  for i in j] for j in board]\n",
        "      if tmp[x][y] == -1:\n",
        "        tmp[x][y] = turn\n",
        "        result[x][y], tmp = outcome(tmp, x, y)    # determine the instant value if placing at x, y\n",
        "\n",
        "        if checkHistory(tmp, history):\n",
        "          result[x][y] = -1\n",
        "        else:\n",
        "          Row[y] = tmp\n",
        "    outBoard.append(Row)\n",
        "      \n",
        "  return result, outBoard\n",
        "\n",
        "\n",
        "def compressor(board):         #  compress a given board into two flattened bool list, 1st black, 2nd white\n",
        "  n = len(board)\n",
        "  black = [False] * (n * n)\n",
        "  white = [False] * (n * n)\n",
        "  for i in range(n):\n",
        "    for j in range(n):\n",
        "      if not board[i][j]:\n",
        "        black[i * n + j] = True\n",
        "      elif board[i][j] == 1:\n",
        "        white[i * n + j] = True\n",
        "  #black = [i for j in black for i in j]\n",
        "  #white = [i for j in white for i in j]\n",
        "  #b = np.array(board)\n",
        "  #black = np.logical_not(b.ravel()).tolist()\n",
        "  #black = (b.ravel() == 0).tolist()\n",
        "  #white = (b.ravel() == 1).tolist()\n",
        "  return [black, white]"
      ],
      "execution_count": null,
      "outputs": []
    },
    {
      "cell_type": "code",
      "metadata": {
        "id": "SCxAbdaINtvy"
      },
      "source": [
        "class Game:\n",
        "\n",
        "  history = []\n",
        "  board = None\n",
        "  turn = None\n",
        "  size = None\n",
        "  score = []\n",
        "\n",
        "  def __init__(self, n):\n",
        "    self.board = np.full((n,n), -1)\n",
        "    self.turn = 0\n",
        "    self.size = n\n",
        "    self.score = [0,0]\n",
        "    self.history = []\n",
        "\n",
        "  def init_with(self, n, t, b, score):      # for Monte_Carlo play, board is always as python list instead of np array\n",
        "    self.board = b                            # history is ignored\n",
        "    self.size = n\n",
        "    self.turn = t\n",
        "    self.score = [0,0]\n",
        "    self.history = []\n",
        "    self.score = score\n",
        "    cand = [(i,j) for j in range(SIZE) for i in range(SIZE) if self.board[i][j] == -1]\n",
        "    r = rd.randrange(len(cand))\n",
        "    return cand[r]\n",
        "\n",
        "  def play(self, x, y):                       # proceed to play at x,y and record score, then return max score\n",
        "\n",
        "    self.history.append(self.board)\n",
        "    newstate = self.board.tolist()\n",
        "    newstate[x][y] = self.turn\n",
        "    pts, board = outcome(newstate, x, y)\n",
        "    self.board = np.array(board)\n",
        "    self.score[self.turn] += pts\n",
        "    self.turn = not self.turn\n",
        "\n",
        "    return max(self.score)\n",
        "  \n",
        "  def MC_play(self, x, y):                       # quick version of play, without recording history to save time and space\n",
        "                                                # Check of empty place is assumed to be done beforehand\n",
        "    newstate = [[i for i in j] for j in self.board]\n",
        "    newstate[x][y] = self.turn\n",
        "    pts, board = outcome(newstate, x, y)\n",
        "\n",
        "    cand = [(i,j) for j in range(SIZE) for i in range(SIZE) if board[i][j] == -1]\n",
        "    if not len(cand) or (pts < 0 and len(cand) == 1):     # If no space or only move left is suicidal\n",
        "      return False                                 # return False for suicide check\n",
        "    self.score[self.turn] += pts\n",
        "    self.board = board\n",
        "    self.turn = not self.turn\n",
        "    r = rd.randrange(len(cand))                   # random move\n",
        "    return cand[r]\n",
        "\n",
        "  def display(self, b = []):\n",
        "    if not len(b):\n",
        "      b = self.board\n",
        "    print(f'\\nScore: B/{self.score[0]}  W/{self.score[1]}')\n",
        "    for row in b:\n",
        "      for each in row:\n",
        "        if not each:\n",
        "          print('x', end=' ')\n",
        "        elif each > 0:\n",
        "          print('o', end=' ')\n",
        "        else:\n",
        "          print('-', end=' ')\n",
        "      print()\n",
        "    print()\n",
        "  \n",
        "  def replay(self, hist = None):\n",
        "    if not hist:\n",
        "      hist = self.history\n",
        "    for i,j in enumerate(hist):\n",
        "      print(f'{i}:')\n",
        "      self.display(j)\n",
        "\n",
        "  def winner(self):\n",
        "    if self.score[0] == self.score[1]:\n",
        "      return 'D'\n",
        "    elif self.score[0] > self.score[1]:\n",
        "      return 'B'\n",
        "    else:\n",
        "      return 'W'"
      ],
      "execution_count": null,
      "outputs": []
    },
    {
      "cell_type": "code",
      "metadata": {
        "id": "iHuY-NwM4ElI"
      },
      "source": [
        "class player:\n",
        "\n",
        "  skill = ''\n",
        "  pick = None\n",
        "  name = ''\n",
        "\n",
        "  def __init__(name, strat):\n",
        "    self.name = name\n",
        "    self.pick = strat\n",
        "    self.skill = str(strat)"
      ],
      "execution_count": null,
      "outputs": []
    },
    {
      "cell_type": "code",
      "metadata": {
        "id": "xfOmCxry8ETF",
        "colab": {
          "base_uri": "https://localhost:8080/"
        },
        "outputId": "9b6ed618-f0be-49c0-d879-f93e1011937b"
      },
      "source": [
        "game4 = Game(SIZE)\n",
        "game4.play(1,1)\n",
        "game4.play(2,2)\n",
        "game4.play(0,2)\n",
        "game4.play(1,2)\n",
        "game4.play(2,1)\n",
        "game4.play(3,1)\n",
        "\n",
        "game4.play(3,2)\n",
        "game4.play(4,2)\n",
        "game4.play(4,1)\n",
        "game4.play(3,4)\n",
        "game4.play(3,0)\n",
        "\n",
        "game4.display()"
      ],
      "execution_count": null,
      "outputs": [
        {
          "output_type": "stream",
          "text": [
            "\n",
            "Score: B/1  W/0\n",
            "- - x - - \n",
            "- x o - - \n",
            "- x o - - \n",
            "x - x - o \n",
            "- x o - - \n",
            "\n"
          ],
          "name": "stdout"
        }
      ]
    },
    {
      "cell_type": "code",
      "metadata": {
        "id": "xogdjGga_oAe"
      },
      "source": [
        "def PromAndRandom(matrix, prob = 0.3):    # Generate the [True, False] matrix for the current position with the desired probability, default is 0.3\n",
        "  n = len(matrix)\n",
        "  result = [[False] * n for i in range(n)]\n",
        "  for i in range(n):\n",
        "    for j in range(n):\n",
        "      if matrix[i][j] > -100:\n",
        "        result[i][j] = True\n",
        "      elif not matrix[i][j]:\n",
        "        if rd.random() < prob:\n",
        "          result[i][j] = True\n",
        "  return result\n",
        "\n",
        "def DoItAll(matrix):\n",
        "  n = len(matrix)\n",
        "  result = [[False] * n for i in range(n)]\n",
        "  for i in range(n):\n",
        "    for j in range(n):\n",
        "      if matrix[i][j] > -100:\n",
        "        result[i][j] = True\n",
        "  return result\n",
        "\n",
        "def filterExc(matrix, v):\n",
        "  ans = matrix.copy()\n",
        "  ans[ans != v] = -1\n",
        "  return ans\n"
      ],
      "execution_count": null,
      "outputs": []
    },
    {
      "cell_type": "code",
      "metadata": {
        "id": "PTwI6u9RfRxg"
      },
      "source": [
        "class node:\n",
        "\n",
        "  board = None  \n",
        "  matrix = None        # Instant value matrix\n",
        "  path = None         # Store of board positions one move later\n",
        "  children = None     # Direct children list of this node\n",
        "  parent = None       # Direct parent\n",
        "  value = None         # Value obtained from moving here\n",
        "  eV = None           # expected value, calculated from instant value and sum of all children recursively\n",
        "  turn = None         # which turn is that in this node\n",
        "  history = None         # past 5 board history, compressed to list[black[], white[]]\n",
        "\n",
        "  def __init__(self, board, turn, history, val = 0):\n",
        "    n = len(board)\n",
        "    self.history = history\n",
        "    self.board = board.copy()\n",
        "    self.children = []\n",
        "    self.value = val\n",
        "    self.turn = turn\n",
        "    self.parent = None\n",
        "    self.eV = None\n",
        "\n",
        "    self.matrix, self.path = val_matrix(board, turn, history)\n",
        "    self.last_location = self.last()\n",
        "\n",
        "  def find(self, board):\n",
        "    for i in self.children:\n",
        "      if i.board == board:\n",
        "        return i\n",
        "    return False\n",
        "  \n",
        "\n",
        "  def last(self):                 #find last step by comparing with history\n",
        "    last = self.history[-1]\n",
        "    n = len(self.board)\n",
        "    if len(last):\n",
        "      thisCom = compressor(self.board)\n",
        "      for i in range(n * n):\n",
        "        if last[not self.turn][i] ^ thisCom[not self.turn][i]:\n",
        "          return i // n, i % n\n",
        "    else:\n",
        "      print(\"history not found\")\n",
        "      return\n",
        "\n",
        "\n",
        "  def proceed(self, x ,y):         # construct node if we play at x,y\n",
        "      n_hist = self.history[-4:]      # save board state to history\n",
        "      n_hist.append(compressor(self.board))\n",
        "      child = node(self.path[x][y], not self.turn, n_hist, self.matrix[x][y])\n",
        "      child.parent = self\n",
        "      self.children.append(child)\n",
        "      self.matrix[x][y] = float('-inf')     #  Mark this place as already tried\n",
        "      return child\n",
        "\n",
        "    #else:\n",
        "      #print(f\"Move invalid at {x}, {y}\")\n",
        "      #return False\n",
        "  \n",
        "  def expand(self):                       # Create a node for every possible move on the board\n",
        "    doMatrix = DoItAll(self.matrix)\n",
        "    n = len(self.board)\n",
        "    for x in range(n):\n",
        "      for y in range(n):\n",
        "        if self.matrix[x][y] >= 0 and doMatrix[x][y]:\n",
        "          self.proceed(x,y)\n",
        "    return self.children\n",
        "\n",
        "  def selective(self):                    # only proceed on those who have a promising result, randomly on others\n",
        "    doMatrix = PromAndRandom(self.matrix)\n",
        "    n = len(self.board)\n",
        "    for x in range(n):\n",
        "      for y in range(n):\n",
        "        if doMatrix[x][y] and self.matrix[x][y] >= 0:\n",
        "          self.proceed(x,y)\n",
        "    return self.children\n",
        "\n",
        "  def update(self):                 # calculate expected value by looking into values of children\n",
        "    n = len(self.children)\n",
        "    if not n:\n",
        "      flat = [i for j in self.matrix for i in j]\n",
        "      self.eV = self.value - 0.8 * max(flat)\n",
        "    else:\n",
        "      tmp = [i.eV for i in self.children]\n",
        "      if len(tmp):                                  # the value of the next level is a gain to opponent, hence a loss\n",
        "        self.eV = self.value - 0.8 * max(tmp)       # 0.8 is the deflation factor of each step\n",
        "      else:\n",
        "        self.eV = self.value\n",
        "      \n",
        "\n",
        "class GameTree:   # Upper hierachy of the nodes\n",
        "\n",
        "  state = None\n",
        "  head = None\n",
        "  P1 = None\n",
        "  P2 = None\n",
        "\n",
        "  def __init__(self, game, strat1, strat2):\n",
        "\n",
        "    cHistory = [compressor(i) for i in game.history]\n",
        "    self.state = game\n",
        "    self.head = node(game.board.tolist(), game.turn, cHistory)\n",
        "    self.P1 = strat1\n",
        "    self.P2 = strat2\n",
        "\n",
        "  def show(self, board):\n",
        "    for i in range(len(board)):\n",
        "      for j in range(len(board)):\n",
        "        if board[i][j] < 0:\n",
        "          print('.', end = '')\n",
        "        elif not board[i,j]:\n",
        "          print('x', end = '')\n",
        "        else:\n",
        "          print('o', end = '')\n",
        "      print()\n",
        "    print()\n",
        "\n",
        "  def move(self, x,y):                          # Game is proceeded by playing at x,y\n",
        "    m = self.state.play(x,y)\n",
        "    \n",
        "    if m >= 10:\n",
        "      return True                               # return true if game over\n",
        "\n",
        "    for i in self.head.children:\n",
        "      if i.last() == (x,y):\n",
        "        self.head = i\n",
        "        return False\n",
        "        # print(\"found node, proceeding\")\n",
        "    print(\"ERROR: not found\")\n",
        "    return False\n",
        "\n",
        "  def compete(self, display = True):\n",
        "    end = False\n",
        "    i = 0\n",
        "    while not end:\n",
        "      if not i%2:\n",
        "        m = self.P1(self)                       # P1 plays first\n",
        "      else:\n",
        "        m = self.P2(self)                       # P2 plays next\n",
        "      i += 1\n",
        "      if not m:\n",
        "        end = True\n",
        "      elif self.move(m[0], m[1]):\n",
        "        end = True\n",
        "    if display:\n",
        "      print(f'End: {i} steps')\n",
        "    return self.state.score\n",
        "\n",
        "  def lookForward(self, n, r=0):          # n = full expansion, r is selective\n",
        "    trace = []\n",
        "    digQueue = []\n",
        "    nextList = [self.head]\n",
        "\n",
        "    for i in range(n + r):\n",
        "      digQueue = nextList\n",
        "      nextList = []\n",
        "      if i < n:\n",
        "        for each in digQueue:\n",
        "          nextList.extend(each.expand())\n",
        "      else:\n",
        "        for each in digQueue:\n",
        "          nextList.extend(each.selective())\n",
        "      trace = nextList + trace\n",
        "      # print(len(trace))\n",
        "    \n",
        "    for i in trace:\n",
        "      i.update()\n",
        "    \n",
        "    self.head.children.sort(key = lambda x: x.eV, reverse=True)\n",
        "    \n",
        "  def digDeep(self, num, n, r):           # Dig much deeper into the top (NUM) choices, full expanding by n steps, then randomly by r steps\n",
        "    choices = self.head.children\n",
        "    choices.sort(key = lambda x: x.eV, reverse=True)\n",
        "    queue = choices[:num]\n",
        "    trace = choices[:num]\n",
        "    toDo = []\n",
        "\n",
        "    for i in range(n + r):\n",
        "      print(len(queue))\n",
        "      if i < n:\n",
        "        for each in queue:\n",
        "          toDo.extend(each.expand())        # Expand this node fully\n",
        "      else:\n",
        "        for each in queue:\n",
        "          toDo.extend(each.selective())     # Expand this node randomly\n",
        "\n",
        "      trace = toDo + trace\n",
        "      queue = toDo\n",
        "      toDo = []\n",
        "      #print(len(trace))\n",
        "\n",
        "    for i in trace:\n",
        "      i.update()\n",
        "      \n",
        "    #tmp = [i.eV for i in choices]\n",
        "    #print(tmp)\n",
        "\n",
        "  def displayTree(self, depth, optimal = False):\n",
        "    queue = [self.head]\n",
        "    vals = [self.head.value]\n",
        "    count = 0\n",
        "    while len(queue) and count < depth:\n",
        "      n = len(queue)\n",
        "      size = len(self.head.board)\n",
        "      for v in vals:\n",
        "        if v < 0:\n",
        "          print(f' {v:.1f}  ', end='')\n",
        "        else:\n",
        "          print(f' +{v:.1f}  ', end='')\n",
        "      print()\n",
        "      vals = []\n",
        "      for i in range(size):\n",
        "        for j in range(n):\n",
        "          for k in range(size):\n",
        "            if queue[j].board[i][k] < 0:\n",
        "              print('.', end = '')\n",
        "            elif not queue[j].board[i][k]:\n",
        "              print('x', end = '')\n",
        "            else:\n",
        "              print('o', end = '')\n",
        "          print('  ', end='')\n",
        "        print()\n",
        "      print()\n",
        "      count += 1\n",
        "\n",
        "      if not optimal:\n",
        "        for i in range(n):\n",
        "          for j in queue[i].children:\n",
        "            #if j.eV:           #  omit 0 values\n",
        "            queue.append(j)\n",
        "            vals.append(j.eV)\n",
        "      else:\n",
        "        tmp = []\n",
        "        maxi = 0\n",
        "        for i in queue:\n",
        "          if len(i.children):\n",
        "            tmp.append(max([j.eV for j in i.children]))\n",
        "        if len(tmp):\n",
        "          maxi = max(tmp)\n",
        "        for i in queue:\n",
        "          for j in i.children:\n",
        "            if j.eV >= maxi:\n",
        "              queue.append(j)\n",
        "              vals.append(j.eV)\n",
        "\n",
        "      queue = queue[n:]\n",
        "\n"
      ],
      "execution_count": null,
      "outputs": []
    },
    {
      "cell_type": "code",
      "metadata": {
        "id": "x_YlU7Gf5kc0"
      },
      "source": [
        "# strategies\n",
        "\n",
        "def beginner(tree):                                                   # choose from all legal moves at random\n",
        "  tree.lookForward(1)\n",
        "  choices = [i.last_location for i in tree.head.children]\n",
        "  if not choices:\n",
        "    return False                                                      # return False for no possible moves\n",
        "  mv = rd.randrange(len(choices))\n",
        "  return choices[mv]\n",
        "\n",
        "def forwardLooker(tree):                                              # look 2 step ahead of time\n",
        "  tree.lookForward(2)\n",
        "  choices = tree.head.children\n",
        "  if not choices:\n",
        "    return False\n",
        "  best = max(choices, key=lambda i: i.eV)                             # make a list of all best moves\n",
        "  final = [i for i in choices if i.eV == best.eV]\n",
        "\n",
        "  mv = rd.randrange(len(final))\n",
        "  return final[mv].last_location\n",
        "\n",
        "def FLook_2_2(tree):                                              # look 2 step ahead of time, followed by 2 steps in random accuracy\n",
        "  tree.lookForward(2,1)\n",
        "  choices = tree.head.children\n",
        "  if not choices:\n",
        "    return False\n",
        "  best = max(choices, key=lambda i: i.eV)                             # make a list of all best moves\n",
        "  final = [i for i in choices if i.eV == best.eV]\n",
        "\n",
        "  mv = rd.randrange(len(final))\n",
        "  return final[mv].last_location\n",
        "\n",
        "\n",
        "def MonteCarlo(tree):\n",
        "\n",
        "  tree.lookForward(1)\n",
        "  choices = tree.head.children\n",
        "  if not choices:\n",
        "    return False\n",
        "  store = []\n",
        "  role = tree.head.turn                                   # play as yourself\n",
        "\n",
        "  for i in choices:\n",
        "    res = [0,1]                                               # total games start with 1 to prevent division by 0 afterwards\n",
        "\n",
        "    for e in range(100):\n",
        "      g = Game(SIZE)\n",
        "      move = g.init_with(SIZE, not role, i.board, tree.state.score.copy())\n",
        "      step = 0\n",
        "\n",
        "      while step < 100:                                       # at  most 100 steps allowed\n",
        "        tmp = g.MC_play(move[0], move[1])\n",
        "        if max(g.score) >= 10:\n",
        "          if g.score[role] > g.score[not role]:               # win or not depends on the role you are using\n",
        "            res[0] += 1\n",
        "          else:\n",
        "            res[1] += 1\n",
        "          break\n",
        "        if not tmp:\n",
        "          break\n",
        "        move = tmp\n",
        "        step += 1\n",
        "      \n",
        "    store.append(res[0] / sum(res))                    \n",
        "\n",
        "  # Evaluate and return\n",
        "\n",
        "  a = max(store)\n",
        "  for i in range(len(store)):\n",
        "    if store[i] == a:\n",
        "      return choices[i].last_location\n",
        "\n",
        "  return store\n"
      ],
      "execution_count": null,
      "outputs": []
    },
    {
      "cell_type": "code",
      "metadata": {
        "colab": {
          "base_uri": "https://localhost:8080/"
        },
        "id": "usgQDlDL7e3n",
        "outputId": "c1ef0c90-f6b4-4d90-c05c-c17723720363"
      },
      "source": [
        "#tree.head.turn\n",
        "MonteCarlo(tree)"
      ],
      "execution_count": null,
      "outputs": [
        {
          "output_type": "execute_result",
          "data": {
            "text/plain": [
              "[0.5561224489795918,\n",
              " 0.5117493472584856,\n",
              " 0.5803108808290155,\n",
              " 0.6041131105398457,\n",
              " 0.5687830687830688,\n",
              " 0.5654450261780105,\n",
              " 0.524547803617571,\n",
              " 0.5438144329896907,\n",
              " 0.5673575129533679,\n",
              " 0.6198979591836735,\n",
              " 0.5345268542199488,\n",
              " 0.6134020618556701,\n",
              " 0.5552631578947368,\n",
              " 0.5419847328244275,\n",
              " 0.5235602094240838,\n",
              " 0.5153846153846153,\n",
              " 0.515625]"
            ]
          },
          "metadata": {
            "tags": []
          },
          "execution_count": 253
        }
      ]
    },
    {
      "cell_type": "code",
      "metadata": {
        "colab": {
          "base_uri": "https://localhost:8080/"
        },
        "id": "OyAF0wQlMxWt",
        "outputId": "f3d4cf37-449b-40d4-ec2a-dccd2d6623ed"
      },
      "source": [
        "tree.lookForward(2,1)\n",
        "tree.displayTree(2)"
      ],
      "execution_count": null,
      "outputs": [
        {
          "output_type": "stream",
          "text": [
            " +0.0  \n",
            ".ox..  \n",
            ".x...  \n",
            "o....  \n",
            "x.x..  \n",
            "oo...  \n",
            "\n",
            " +0.8   +0.2   -0.2   -0.2   -0.2   -0.2   -0.2   -0.2   -0.2   -0.2   -0.2   -0.2   -0.2   -0.2   -0.2   -0.2   -0.2  \n",
            ".ox..  x.x..  .oxx.  .ox.x  .ox..  .ox..  .ox..  .ox..  .ox..  .ox..  .ox..  .ox..  .ox..  .ox..  .ox..  .ox..  .ox..  \n",
            ".x...  .x...  .x...  .x...  xx...  .xx..  .x.x.  .x..x  .x...  .x...  .x...  .x...  .x...  .x...  .x...  .x...  .x...  \n",
            "o....  o....  o....  o....  o....  o....  o....  o....  ox...  o.x..  o..x.  o...x  o....  o....  o....  o....  o....  \n",
            "xxx..  x.x..  x.x..  x.x..  x.x..  x.x..  x.x..  x.x..  x.x..  x.x..  x.x..  x.x..  x.xx.  x.x.x  x.x..  x.x..  x.x..  \n",
            "oo...  oo...  oo...  oo...  oo...  oo...  oo...  oo...  oo...  oo...  oo...  oo...  oo...  oo...  oox..  oo.x.  oo..x  \n",
            "\n"
          ],
          "name": "stdout"
        }
      ]
    },
    {
      "cell_type": "code",
      "metadata": {
        "id": "e62xqu9yk95V"
      },
      "source": [
        "def normal_game():\n",
        "  game = Game(SIZE)\n",
        "  game.play(1,1)\n",
        "  game.play(3,3)\n",
        "  return game\n",
        "\n",
        "def playForRounds(p1, p2, n, show = False):\n",
        "  result = [0,0,0]        # Black win, White win, Draw\n",
        "\n",
        "  for i in range(n):\n",
        "    print(f'Game {i}')\n",
        "    game1 = normal_game()\n",
        "    tree = GameTree(game1, p1, p2)\n",
        "    #tree.lookForward(1,0)\n",
        "\n",
        "    tree.compete(False)\n",
        "\n",
        "    if game1.winner() == 'B':\n",
        "      result[0] += 1\n",
        "    elif game1.winner() == 'W':\n",
        "      result[1] += 1\n",
        "    else:\n",
        "      result[2] += 1\n",
        "    \n",
        "    if show:\n",
        "      game1.display()\n",
        "    \n",
        "  return result"
      ],
      "execution_count": null,
      "outputs": []
    },
    {
      "cell_type": "code",
      "metadata": {
        "id": "XcR3Npr3VYo_",
        "colab": {
          "base_uri": "https://localhost:8080/"
        },
        "outputId": "9aa49a7c-aaf0-49e9-ab26-de096b2891e4"
      },
      "source": [
        "#del game3\n",
        "game3 = Game(SIZE)\n",
        "game3.play(1,1)\n",
        "game3.play(0,1)\n",
        "game3.play(0,2)\n",
        "game3.play(2,0)\n",
        "game3.play(3,0)\n",
        "game3.play(4,0)\n",
        "game3.play(3,2)\n",
        "game3.play(4,1)\n",
        "#game3.play(4,3)\n",
        "#game3.play(2,3)\n",
        "game3.display()\n",
        "tree = GameTree(game3, beginner, forwardLooker)\n",
        "#game3.replay()\n",
        "#tree.show(tree.state.board)"
      ],
      "execution_count": null,
      "outputs": [
        {
          "output_type": "stream",
          "text": [
            "\n",
            "Score: B/0  W/0\n",
            "- o x - - \n",
            "- x - - - \n",
            "o - - - - \n",
            "x - x - - \n",
            "o o - - - \n",
            "\n"
          ],
          "name": "stdout"
        }
      ]
    },
    {
      "cell_type": "code",
      "metadata": {
        "colab": {
          "base_uri": "https://localhost:8080/"
        },
        "id": "IrnNYQXjmWJH",
        "outputId": "1659bcba-74eb-470d-898d-284fe293a0fa"
      },
      "source": [
        "playForRounds(beginner, MonteCarlo, 10, False)\n",
        "#game1 = normal_game()\n",
        "#tree = GameTree(game1, MonteCarlo, forwardLooker)\n",
        "#tree.lookForward(1,0)\n",
        "\n",
        "#tree.compete()"
      ],
      "execution_count": null,
      "outputs": [
        {
          "output_type": "stream",
          "text": [
            "Game 0\n",
            "Game 1\n",
            "Game 2\n",
            "Game 3\n",
            "Game 4\n",
            "Game 5\n",
            "Game 6\n",
            "Game 7\n",
            "Game 8\n",
            "Game 9\n"
          ],
          "name": "stdout"
        },
        {
          "output_type": "execute_result",
          "data": {
            "text/plain": [
              "[4, 4, 2]"
            ]
          },
          "metadata": {
            "tags": []
          },
          "execution_count": 34
        }
      ]
    },
    {
      "cell_type": "code",
      "metadata": {
        "id": "rhH-PXxImnoI"
      },
      "source": [
        "#tree.state.score\n",
        "game1.replay()"
      ],
      "execution_count": null,
      "outputs": []
    },
    {
      "cell_type": "code",
      "metadata": {
        "id": "1Cj1b8Nwyu7k"
      },
      "source": [
        "#prof = cProfile.Profile()\n",
        "tree = GameTree(game3, beginner, forwardLooker)\n",
        "#prof.enable()\n",
        "\n",
        "tree.lookForward(1,0)\n",
        "\n",
        "#prof.disable()\n",
        "#tree.digDeep(3, 2, 2)\n",
        "#tree.show(game1.board)\n",
        "#print(len(game1.replay()))"
      ],
      "execution_count": null,
      "outputs": []
    },
    {
      "cell_type": "code",
      "metadata": {
        "colab": {
          "base_uri": "https://localhost:8080/"
        },
        "id": "Ea8G-E9V62-Q",
        "outputId": "29b2784c-c424-4157-e40e-92394341844c"
      },
      "source": [
        "tree.compete(False)"
      ],
      "execution_count": null,
      "outputs": [
        {
          "output_type": "execute_result",
          "data": {
            "text/plain": [
              "[12, 0]"
            ]
          },
          "metadata": {
            "tags": []
          },
          "execution_count": 250
        }
      ]
    },
    {
      "cell_type": "code",
      "metadata": {
        "colab": {
          "base_uri": "https://localhost:8080/"
        },
        "id": "cSHAqIWkMszU",
        "outputId": "fd09da58-ee4b-42b1-ef70-c4b37330a798"
      },
      "source": [
        "tree.displayTree(2)"
      ],
      "execution_count": null,
      "outputs": [
        {
          "output_type": "stream",
          "text": [
            " +0.0  \n",
            "x.xx.  \n",
            "xxx.x  \n",
            "oooxx  \n",
            ".ooox  \n",
            "xooox  \n",
            "\n",
            " +9.0   +5.6   +5.6   +5.6  \n",
            "x.xx.  xxxx.  x.xxx  x.xx.  \n",
            "xxx.x  xxx.x  xxx.x  xxxxx  \n",
            "...xx  oooxx  oooxx  oooxx  \n",
            "x...x  .ooox  .ooox  .ooox  \n",
            "x...x  xooox  xooox  xooox  \n",
            "\n"
          ],
          "name": "stdout"
        }
      ]
    },
    {
      "cell_type": "code",
      "metadata": {
        "colab": {
          "base_uri": "https://localhost:8080/",
          "height": 35
        },
        "id": "dsM7NDcMgPHe",
        "outputId": "5b61bc19-004b-44c9-8d58-db373bfe6f48"
      },
      "source": [
        "game3.winner()"
      ],
      "execution_count": null,
      "outputs": [
        {
          "output_type": "execute_result",
          "data": {
            "application/vnd.google.colaboratory.intrinsic+json": {
              "type": "string"
            },
            "text/plain": [
              "'B'"
            ]
          },
          "metadata": {
            "tags": []
          },
          "execution_count": 251
        }
      ]
    },
    {
      "cell_type": "code",
      "metadata": {
        "colab": {
          "base_uri": "https://localhost:8080/"
        },
        "id": "woeMDGi6bdcR",
        "outputId": "925448e7-ede4-4510-8d21-0e3ba746e1d2"
      },
      "source": [
        "li = []\n",
        "if li:\n",
        "  print(True)\n",
        "else:\n",
        "  print(False)"
      ],
      "execution_count": null,
      "outputs": [
        {
          "output_type": "stream",
          "text": [
            "False\n"
          ],
          "name": "stdout"
        }
      ]
    },
    {
      "cell_type": "code",
      "metadata": {
        "colab": {
          "base_uri": "https://localhost:8080/"
        },
        "id": "WmE9zDjHCYQs",
        "outputId": "a24ce1e0-8753-4c5f-a14c-4952a65eeab5"
      },
      "source": [
        "forwardLooker(tree)"
      ],
      "execution_count": null,
      "outputs": [
        {
          "output_type": "stream",
          "text": [
            "21\n",
            "440\n"
          ],
          "name": "stdout"
        },
        {
          "output_type": "execute_result",
          "data": {
            "text/plain": [
              "(0, 0)"
            ]
          },
          "metadata": {
            "tags": []
          },
          "execution_count": 78
        }
      ]
    },
    {
      "cell_type": "code",
      "metadata": {
        "id": "NL0PwaM4fkTb",
        "colab": {
          "base_uri": "https://localhost:8080/",
          "height": 282
        },
        "outputId": "b2853d7f-fd71-4b64-95d4-b9b061e219cb"
      },
      "source": [
        "tree.move(2,2)"
      ],
      "execution_count": null,
      "outputs": [
        {
          "output_type": "error",
          "ename": "TypeError",
          "evalue": "ignored",
          "traceback": [
            "\u001b[0;31m---------------------------------------------------------------------------\u001b[0m",
            "\u001b[0;31mTypeError\u001b[0m                                 Traceback (most recent call last)",
            "\u001b[0;32m<ipython-input-62-c57eb8c3ab5d>\u001b[0m in \u001b[0;36m<module>\u001b[0;34m()\u001b[0m\n\u001b[0;32m----> 1\u001b[0;31m \u001b[0mtree\u001b[0m\u001b[0;34m.\u001b[0m\u001b[0mmove\u001b[0m\u001b[0;34m(\u001b[0m\u001b[0;36m2\u001b[0m\u001b[0;34m,\u001b[0m\u001b[0;36m2\u001b[0m\u001b[0;34m)\u001b[0m\u001b[0;34m\u001b[0m\u001b[0;34m\u001b[0m\u001b[0m\n\u001b[0m",
            "\u001b[0;32m<ipython-input-52-053d41e04416>\u001b[0m in \u001b[0;36mmove\u001b[0;34m(self, x, y)\u001b[0m\n\u001b[1;32m    114\u001b[0m   \u001b[0;32mdef\u001b[0m \u001b[0mmove\u001b[0m\u001b[0;34m(\u001b[0m\u001b[0mself\u001b[0m\u001b[0;34m,\u001b[0m \u001b[0mx\u001b[0m\u001b[0;34m,\u001b[0m\u001b[0my\u001b[0m\u001b[0;34m)\u001b[0m\u001b[0;34m:\u001b[0m                          \u001b[0;31m# Game is proceeded by playing at x,y\u001b[0m\u001b[0;34m\u001b[0m\u001b[0;34m\u001b[0m\u001b[0m\n\u001b[1;32m    115\u001b[0m     \u001b[0mm\u001b[0m \u001b[0;34m=\u001b[0m \u001b[0mself\u001b[0m\u001b[0;34m.\u001b[0m\u001b[0mstate\u001b[0m\u001b[0;34m.\u001b[0m\u001b[0mplay\u001b[0m\u001b[0;34m(\u001b[0m\u001b[0mx\u001b[0m\u001b[0;34m,\u001b[0m\u001b[0my\u001b[0m\u001b[0;34m)\u001b[0m\u001b[0;34m\u001b[0m\u001b[0;34m\u001b[0m\u001b[0m\n\u001b[0;32m--> 116\u001b[0;31m     \u001b[0;32mif\u001b[0m \u001b[0mm\u001b[0m \u001b[0;34m>=\u001b[0m \u001b[0;36m10\u001b[0m\u001b[0;34m:\u001b[0m\u001b[0;34m\u001b[0m\u001b[0;34m\u001b[0m\u001b[0m\n\u001b[0m\u001b[1;32m    117\u001b[0m       \u001b[0;32mreturn\u001b[0m \u001b[0;32mTrue\u001b[0m                               \u001b[0;31m# return true if game over\u001b[0m\u001b[0;34m\u001b[0m\u001b[0;34m\u001b[0m\u001b[0m\n\u001b[1;32m    118\u001b[0m     \u001b[0;32mfor\u001b[0m \u001b[0mi\u001b[0m \u001b[0;32min\u001b[0m \u001b[0mself\u001b[0m\u001b[0;34m.\u001b[0m\u001b[0mhead\u001b[0m\u001b[0;34m.\u001b[0m\u001b[0mchildren\u001b[0m\u001b[0;34m:\u001b[0m\u001b[0;34m\u001b[0m\u001b[0;34m\u001b[0m\u001b[0m\n",
            "\u001b[0;31mTypeError\u001b[0m: '>=' not supported between instances of 'NoneType' and 'int'"
          ]
        }
      ]
    },
    {
      "cell_type": "code",
      "metadata": {
        "id": "_50dTYFSHDpH",
        "colab": {
          "base_uri": "https://localhost:8080/"
        },
        "outputId": "b65f0c32-3676-4049-b382-e9252a717952"
      },
      "source": [
        "tree.displayTree(2)"
      ],
      "execution_count": null,
      "outputs": [
        {
          "output_type": "stream",
          "text": [
            " +0.0  \n",
            ".ox..  \n",
            ".x...  \n",
            "o....  \n",
            ".....  \n",
            ".....  \n",
            "\n",
            " +1.0   +0.6   +0.6   +0.6   +0.6   +0.6   +0.6   +0.6   +0.6   +0.6   +0.6   +0.6   +0.6   +0.6   +0.6   +0.6   +0.6   +0.6   +0.6   +0.6   +0.6  \n",
            "x.x..  .oxx.  .ox.x  .ox..  .ox..  .ox..  .ox..  .ox..  .ox..  .ox..  .ox..  .ox..  .ox..  .ox..  .ox..  .ox..  .ox..  .ox..  .ox..  .ox..  .ox..  \n",
            ".x...  .x...  .x...  xx...  .xx..  .x.x.  .x..x  .x...  .x...  .x...  .x...  .x...  .x...  .x...  .x...  .x...  .x...  .x...  .x...  .x...  .x...  \n",
            "o....  o....  o....  o....  o....  o....  o....  ox...  o.x..  o..x.  o...x  o....  o....  o....  o....  o....  o....  o....  o....  o....  o....  \n",
            ".....  .....  .....  .....  .....  .....  .....  .....  .....  .....  .....  x....  .x...  ..x..  ...x.  ....x  .....  .....  .....  .....  .....  \n",
            ".....  .....  .....  .....  .....  .....  .....  .....  .....  .....  .....  .....  .....  .....  .....  .....  x....  .x...  ..x..  ...x.  ....x  \n",
            "\n"
          ],
          "name": "stdout"
        }
      ]
    },
    {
      "cell_type": "code",
      "metadata": {
        "id": "jiPjUwFR50_P",
        "colab": {
          "base_uri": "https://localhost:8080/"
        },
        "outputId": "9cfa05ed-d7f4-4df6-9c99-d3fe47e7030b"
      },
      "source": [
        "tree.displayTree(2)"
      ],
      "execution_count": null,
      "outputs": [
        {
          "output_type": "stream",
          "text": [
            " +0.0  \n",
            ".ox..  \n",
            ".x...  \n",
            "o....  \n",
            ".....  \n",
            ".....  \n",
            "\n",
            " +1.0   +0.0   +0.0   +0.0   +0.0   +0.0   +0.0   +0.0   +0.0   +0.0   +0.0   +0.0   +0.0   +0.0   +0.0   +0.0   +0.0   +0.0   +0.0   +0.0   +0.0  \n",
            "x.x..  .oxx.  .ox.x  .ox..  .ox..  .ox..  .ox..  .ox..  .ox..  .ox..  .ox..  .ox..  .ox..  .ox..  .ox..  .ox..  .ox..  .ox..  .ox..  .ox..  .ox..  \n",
            ".x...  .x...  .x...  xx...  .xx..  .x.x.  .x..x  .x...  .x...  .x...  .x...  .x...  .x...  .x...  .x...  .x...  .x...  .x...  .x...  .x...  .x...  \n",
            "o....  o....  o....  o....  o....  o....  o....  ox...  o.x..  o..x.  o...x  o....  o....  o....  o....  o....  o....  o....  o....  o....  o....  \n",
            ".....  .....  .....  .....  .....  .....  .....  .....  .....  .....  .....  x....  .x...  ..x..  ...x.  ....x  .....  .....  .....  .....  .....  \n",
            ".....  .....  .....  .....  .....  .....  .....  .....  .....  .....  .....  .....  .....  .....  .....  .....  x....  .x...  ..x..  ...x.  ....x  \n",
            "\n"
          ],
          "name": "stdout"
        }
      ]
    },
    {
      "cell_type": "code",
      "metadata": {
        "colab": {
          "base_uri": "https://localhost:8080/"
        },
        "id": "6EwZJWo5fC-7",
        "outputId": "1ef4b9f3-a0e8-4d5f-cacc-8202a243e8db"
      },
      "source": [
        "tree.state.replay()"
      ],
      "execution_count": null,
      "outputs": [
        {
          "output_type": "stream",
          "text": [
            "0:\n",
            "\n",
            "Score: B/1  W/0\n",
            "- - - - - \n",
            "- - - - - \n",
            "- - - - - \n",
            "- - - - - \n",
            "- - - - - \n",
            "\n",
            "1:\n",
            "\n",
            "Score: B/1  W/0\n",
            "- - - - - \n",
            "- x - - - \n",
            "- - - - - \n",
            "- - - - - \n",
            "- - - - - \n",
            "\n",
            "2:\n",
            "\n",
            "Score: B/1  W/0\n",
            "- o - - - \n",
            "- x - - - \n",
            "- - - - - \n",
            "- - - - - \n",
            "- - - - - \n",
            "\n",
            "3:\n",
            "\n",
            "Score: B/1  W/0\n",
            "- o x - - \n",
            "- x - - - \n",
            "- - - - - \n",
            "- - - - - \n",
            "- - - - - \n",
            "\n",
            "4:\n",
            "\n",
            "Score: B/1  W/0\n",
            "- o x - - \n",
            "- x - - - \n",
            "o - - - - \n",
            "- - - - - \n",
            "- - - - - \n",
            "\n",
            "5:\n",
            "\n",
            "Score: B/1  W/0\n",
            "x - x - - \n",
            "- x - - - \n",
            "o - - - - \n",
            "- - - - - \n",
            "- - - - - \n",
            "\n"
          ],
          "name": "stdout"
        }
      ]
    },
    {
      "cell_type": "code",
      "metadata": {
        "id": "YhWBzL7ZI38R",
        "colab": {
          "base_uri": "https://localhost:8080/",
          "height": 1000
        },
        "outputId": "1805e0c0-cde3-41a4-8989-1f06103f8514"
      },
      "source": [
        "ps = pstats.Stats(prof)\n",
        "ps.print_stats()"
      ],
      "execution_count": null,
      "outputs": [
        {
          "output_type": "stream",
          "text": [
            "         7663291 function calls (6732619 primitive calls) in 11.450 seconds\n",
            "\n",
            "   Random listing order was used\n",
            "\n",
            "   ncalls  tottime  percall  cumtime  percall filename:lineno(function)\n",
            "   389990    0.114    0.000    0.114    0.000 {method 'update' of 'dict' objects}\n",
            "  3047667    0.263    0.000    0.263    0.000 {method 'append' of 'list' objects}\n",
            "   175896    0.061    0.000    0.061    0.000 {method 'insert' of 'list' objects}\n",
            "    11135    0.003    0.000    0.003    0.000 {method 'extend' of 'list' objects}\n",
            "        1    0.000    0.000    0.000    0.000 {method 'sort' of 'list' objects}\n",
            "    47826    0.018    0.000    0.018    0.000 {method 'split' of 'str' objects}\n",
            "       12    0.000    0.000    0.000    0.000 {built-in method posix.getpid}\n",
            "       17    0.000    0.000    0.000    0.000 {built-in method posix.urandom}\n",
            "       17    0.000    0.000    0.000    0.000 {method 'acquire' of '_thread.lock' objects}\n",
            "    64561    0.009    0.000    0.009    0.000 {method 'random' of '_random.Random' objects}\n",
            "        2    0.000    0.000    0.000    0.000 {built-in method builtins.compile}\n",
            "        2    0.000    0.000   11.450    5.725 {built-in method builtins.exec}\n",
            "       12    0.000    0.000    0.000    0.000 {built-in method builtins.isinstance}\n",
            "   154819    0.024    0.000    0.024    0.000 {built-in method builtins.len}\n",
            "    10672    0.003    0.000    0.003    0.000 {built-in method builtins.max}\n",
            "        6    0.000    0.000    0.001    0.000 {built-in method builtins.print}\n",
            "        1    0.023    0.023   11.450   11.450 <ipython-input-19-ba79788c0de4>:147(lookForward)\n",
            "    28313    0.269    0.000   10.962    0.000 <ipython-input-19-ba79788c0de4>:64(proceed)\n",
            "    11014    0.232    0.000    0.255    0.000 <ipython-input-18-cf13c5f458c9>:1(PromAndRandom)\n",
            "        1    0.000    0.000   11.450   11.450 <ipython-input-20-62b8b9fa0010>:5(<module>)\n",
            "    11014    0.096    0.000   10.887    0.001 <ipython-input-19-ba79788c0de4>:91(selective)\n",
            "       11    0.000    0.000    0.000    0.000 <ipython-input-19-ba79788c0de4>:167(<lambda>)\n",
            "    10672    0.007    0.000    0.007    0.000 <ipython-input-19-ba79788c0de4>:105(<listcomp>)\n",
            "      121    0.003    0.000    0.431    0.004 <ipython-input-19-ba79788c0de4>:82(expand)\n",
            "    28293    0.033    0.000    0.105    0.000 <ipython-input-19-ba79788c0de4>:100(update)\n",
            "   184356    0.256    0.000    1.576    0.000 <ipython-input-15-80c0af055940>:71(checkHistory)\n",
            "    28293    0.887    0.000   10.402    0.000 <ipython-input-15-80c0af055940>:79(val_matrix)\n",
            "   212649    0.850    0.000    1.506    0.000 <ipython-input-15-80c0af055940>:101(compressor)\n",
            "1283549/352877    3.810    0.000    4.008    0.000 <ipython-input-15-80c0af055940>:1(cluster)\n",
            "    28293    0.064    0.000   10.499    0.000 <ipython-input-19-ba79788c0de4>:13(__init__)\n",
            "   184356    0.236    0.000    7.359    0.000 <ipython-input-15-80c0af055940>:62(outcome)\n",
            "        1    0.000    0.000    0.000    0.000 <ipython-input-20-62b8b9fa0010>:7(<module>)\n",
            "   184356    2.872    0.000    7.104    0.000 <ipython-input-15-80c0af055940>:29(impact)\n",
            "    17621    0.004    0.000    0.054    0.000 /usr/local/lib/python3.6/dist-packages/numpy/core/_methods.py:28(_amax)\n",
            "    28293    0.032    0.000    0.115    0.000 <__array_function__ internals>:2(copyto)\n",
            "    28293    0.064    0.000    0.236    0.000 /usr/local/lib/python3.6/dist-packages/numpy/core/numeric.py:283(full)\n",
            "   480981    0.353    0.000    0.353    0.000 {method 'copy' of 'numpy.ndarray' objects}\n",
            "   425298    0.464    0.000    0.464    0.000 {method 'flatten' of 'numpy.ndarray' objects}\n",
            "    17621    0.005    0.000    0.059    0.000 {method 'max' of 'numpy.ndarray' objects}\n",
            "   425298    0.191    0.000    0.191    0.000 {method 'tolist' of 'numpy.ndarray' objects}\n",
            "    28293    0.020    0.000    0.020    0.000 {built-in method numpy.array}\n",
            "    11014    0.011    0.000    0.011    0.000 {built-in method numpy.zeros}\n",
            "    28293    0.037    0.000    0.037    0.000 {built-in method numpy.empty}\n",
            "    28293    0.076    0.000    0.076    0.000 {built-in method numpy.core._multiarray_umath.implement_array_function}\n",
            "    17621    0.050    0.000    0.050    0.000 {method 'reduce' of 'numpy.ufunc' objects}\n",
            "    28293    0.007    0.000    0.007    0.000 /usr/local/lib/python3.6/dist-packages/numpy/core/multiarray.py:1043(copyto)\n",
            "       17    0.000    0.000    0.000    0.000 /usr/local/lib/python3.6/dist-packages/ipykernel/iostream.py:87(_event_pipe)\n",
            "       17    0.000    0.000    0.001    0.000 /usr/local/lib/python3.6/dist-packages/ipykernel/iostream.py:180(schedule)\n",
            "       12    0.000    0.000    0.000    0.000 /usr/local/lib/python3.6/dist-packages/ipykernel/iostream.py:284(_is_master_process)\n",
            "       12    0.000    0.000    0.000    0.000 /usr/local/lib/python3.6/dist-packages/ipykernel/iostream.py:297(_schedule_flush)\n",
            "       12    0.000    0.000    0.001    0.000 /usr/local/lib/python3.6/dist-packages/ipykernel/iostream.py:342(write)\n",
            "       17    0.001    0.000    0.001    0.000 /usr/local/lib/python3.6/dist-packages/zmq/sugar/socket.py:333(send)\n",
            "        1    0.000    0.000    0.000    0.000 {method 'disable' of '_lsprof.Profiler' objects}\n",
            "        2    0.000    0.000    0.000    0.000 /usr/local/lib/python3.6/dist-packages/IPython/core/hooks.py:139(__call__)\n",
            "        2    0.000    0.000    0.000    0.000 /usr/local/lib/python3.6/dist-packages/IPython/core/hooks.py:204(pre_run_code_hook)\n",
            "        2    0.000    0.000    0.000    0.000 /usr/local/lib/python3.6/dist-packages/IPython/core/interactiveshell.py:1067(user_global_ns)\n",
            "        2    0.000    0.000   11.450    5.725 /usr/local/lib/python3.6/dist-packages/IPython/core/interactiveshell.py:2852(run_code)\n",
            "        2    0.000    0.000    0.000    0.000 /usr/lib/python3.6/codeop.py:132(__call__)\n",
            "        2    0.000    0.000    0.000    0.000 /usr/local/lib/python3.6/dist-packages/IPython/utils/ipstruct.py:125(__getattr__)\n",
            "       17    0.000    0.000    0.000    0.000 /usr/lib/python3.6/threading.py:506(is_set)\n",
            "       17    0.000    0.000    0.000    0.000 /usr/lib/python3.6/threading.py:1062(_wait_for_tstate_lock)\n",
            "       17    0.000    0.000    0.000    0.000 /usr/lib/python3.6/threading.py:1104(is_alive)\n",
            "\n",
            "\n"
          ],
          "name": "stdout"
        },
        {
          "output_type": "execute_result",
          "data": {
            "text/plain": [
              "<pstats.Stats at 0x7f35614005c0>"
            ]
          },
          "metadata": {
            "tags": []
          },
          "execution_count": 22
        }
      ]
    },
    {
      "cell_type": "code",
      "metadata": {
        "id": "4qZjVVbDBDD2",
        "colab": {
          "base_uri": "https://localhost:8080/",
          "height": 1000
        },
        "outputId": "77cbe5d0-7008-4a47-a3a3-55410b88f88c"
      },
      "source": [
        "ps = pstats.Stats(prof)\n",
        "ps.print_stats()"
      ],
      "execution_count": null,
      "outputs": [
        {
          "output_type": "stream",
          "text": [
            "         6387960 function calls in 9.027 seconds\n",
            "\n",
            "   Random listing order was used\n",
            "\n",
            "   ncalls  tottime  percall  cumtime  percall filename:lineno(function)\n",
            "  1375722    0.213    0.000    0.213    0.000 {method 'get' of 'dict' objects}\n",
            "   361136    0.106    0.000    0.106    0.000 {method 'update' of 'dict' objects}\n",
            "  1127817    0.153    0.000    0.153    0.000 {method 'append' of 'list' objects}\n",
            "    11114    0.003    0.000    0.003    0.000 {method 'extend' of 'list' objects}\n",
            "        1    0.000    0.000    0.000    0.000 {method 'sort' of 'list' objects}\n",
            "       12    0.000    0.000    0.000    0.000 {built-in method posix.getpid}\n",
            "       17    0.000    0.000    0.000    0.000 {built-in method posix.urandom}\n",
            "       17    0.000    0.000    0.000    0.000 {method 'acquire' of '_thread.lock' objects}\n",
            "    64701    0.008    0.000    0.008    0.000 {method 'random' of '_random.Random' objects}\n",
            "        2    0.000    0.000    0.000    0.000 {built-in method builtins.compile}\n",
            "        2    0.000    0.000    9.027    4.513 {built-in method builtins.exec}\n",
            "       12    0.000    0.000    0.000    0.000 {built-in method builtins.isinstance}\n",
            "   660297    0.090    0.000    0.090    0.000 {built-in method builtins.len}\n",
            "    10615    0.003    0.000    0.003    0.000 {built-in method builtins.max}\n",
            "        6    0.000    0.000    0.002    0.000 {built-in method builtins.print}\n",
            "        1    0.000    0.000    0.000    0.000 <ipython-input-150-62b8b9fa0010>:7(<module>)\n",
            "    28016    0.955    0.000    8.110    0.000 <ipython-input-117-782b83d006db>:75(val_matrix)\n",
            "    28016    0.062    0.000    8.206    0.000 <ipython-input-141-44fc476619bd>:13(__init__)\n",
            "   210401    0.798    0.000    1.098    0.000 <ipython-input-117-782b83d006db>:97(compressor)\n",
            "   182385    2.554    0.000    5.386    0.000 <ipython-input-117-782b83d006db>:26(outcome)\n",
            "        1    0.000    0.000    9.027    9.027 <ipython-input-150-62b8b9fa0010>:5(<module>)\n",
            "   182385    0.246    0.000    1.206    0.000 <ipython-input-117-782b83d006db>:67(checkHistory)\n",
            "      121    0.003    0.000    0.368    0.003 <ipython-input-141-44fc476619bd>:59(expand)\n",
            "    28036    0.264    0.000    8.617    0.000 <ipython-input-141-44fc476619bd>:45(proceed)\n",
            "    28016    0.034    0.000    0.108    0.000 <ipython-input-141-44fc476619bd>:77(update)\n",
            "    10993    0.064    0.000    8.523    0.001 <ipython-input-141-44fc476619bd>:68(selective)\n",
            "        1    0.023    0.023    9.026    9.026 <ipython-input-141-44fc476619bd>:124(lookForward)\n",
            "       11    0.000    0.000    0.000    0.000 <ipython-input-141-44fc476619bd>:144(<lambda>)\n",
            "    10615    0.007    0.000    0.007    0.000 <ipython-input-141-44fc476619bd>:82(<listcomp>)\n",
            "    10993    0.183    0.000    0.205    0.000 <ipython-input-137-230da75ee5d0>:1(PromAndRandom)\n",
            "    10993    0.011    0.000    0.011    0.000 <ipython-input-137-230da75ee5d0>:3(<listcomp>)\n",
            "   324794    2.201    0.000    2.428    0.000 <ipython-input-117-782b83d006db>:1(cluster)\n",
            "    17401    0.004    0.000    0.056    0.000 /usr/local/lib/python3.6/dist-packages/numpy/core/_methods.py:28(_amax)\n",
            "    28016    0.030    0.000    0.111    0.000 <__array_function__ internals>:2(copyto)\n",
            "    28016    0.060    0.000    0.225    0.000 /usr/local/lib/python3.6/dist-packages/numpy/core/numeric.py:283(full)\n",
            "   476272    0.347    0.000    0.347    0.000 {method 'copy' of 'numpy.ndarray' objects}\n",
            "    17401    0.005    0.000    0.061    0.000 {method 'max' of 'numpy.ndarray' objects}\n",
            "   420802    0.131    0.000    0.131    0.000 {method 'ravel' of 'numpy.ndarray' objects}\n",
            "   603187    0.279    0.000    0.279    0.000 {method 'tolist' of 'numpy.ndarray' objects}\n",
            "    28016    0.021    0.000    0.021    0.000 {built-in method numpy.array}\n",
            "    28016    0.033    0.000    0.033    0.000 {built-in method numpy.empty}\n",
            "    28016    0.074    0.000    0.074    0.000 {built-in method numpy.core._multiarray_umath.implement_array_function}\n",
            "    17401    0.052    0.000    0.052    0.000 {method 'reduce' of 'numpy.ufunc' objects}\n",
            "    28016    0.007    0.000    0.007    0.000 /usr/local/lib/python3.6/dist-packages/numpy/core/multiarray.py:1043(copyto)\n",
            "       17    0.000    0.000    0.000    0.000 /usr/local/lib/python3.6/dist-packages/ipykernel/iostream.py:87(_event_pipe)\n",
            "       17    0.000    0.000    0.002    0.000 /usr/local/lib/python3.6/dist-packages/ipykernel/iostream.py:180(schedule)\n",
            "       12    0.000    0.000    0.000    0.000 /usr/local/lib/python3.6/dist-packages/ipykernel/iostream.py:284(_is_master_process)\n",
            "       12    0.000    0.000    0.001    0.000 /usr/local/lib/python3.6/dist-packages/ipykernel/iostream.py:297(_schedule_flush)\n",
            "       12    0.000    0.000    0.002    0.000 /usr/local/lib/python3.6/dist-packages/ipykernel/iostream.py:342(write)\n",
            "       17    0.002    0.000    0.002    0.000 /usr/local/lib/python3.6/dist-packages/zmq/sugar/socket.py:333(send)\n",
            "        1    0.000    0.000    0.000    0.000 {method 'disable' of '_lsprof.Profiler' objects}\n",
            "        2    0.000    0.000    0.000    0.000 /usr/local/lib/python3.6/dist-packages/IPython/core/hooks.py:139(__call__)\n",
            "        2    0.000    0.000    0.000    0.000 /usr/local/lib/python3.6/dist-packages/IPython/core/hooks.py:204(pre_run_code_hook)\n",
            "        2    0.000    0.000    0.000    0.000 /usr/local/lib/python3.6/dist-packages/IPython/core/interactiveshell.py:1067(user_global_ns)\n",
            "        2    0.000    0.000    9.027    4.513 /usr/local/lib/python3.6/dist-packages/IPython/core/interactiveshell.py:2852(run_code)\n",
            "        2    0.000    0.000    0.000    0.000 /usr/lib/python3.6/codeop.py:132(__call__)\n",
            "        2    0.000    0.000    0.000    0.000 /usr/local/lib/python3.6/dist-packages/IPython/utils/ipstruct.py:125(__getattr__)\n",
            "       17    0.000    0.000    0.000    0.000 /usr/lib/python3.6/threading.py:506(is_set)\n",
            "       17    0.000    0.000    0.000    0.000 /usr/lib/python3.6/threading.py:1062(_wait_for_tstate_lock)\n",
            "       17    0.000    0.000    0.000    0.000 /usr/lib/python3.6/threading.py:1104(is_alive)\n",
            "\n",
            "\n"
          ],
          "name": "stdout"
        },
        {
          "output_type": "execute_result",
          "data": {
            "text/plain": [
              "<pstats.Stats at 0x7f35307769e8>"
            ]
          },
          "metadata": {
            "tags": []
          },
          "execution_count": 151
        }
      ]
    },
    {
      "cell_type": "code",
      "metadata": {
        "id": "7sn85MNIEujP",
        "colab": {
          "base_uri": "https://localhost:8080/",
          "height": 1000
        },
        "outputId": "b0ebe0e0-b5f0-41c3-c32b-de735afbfabf"
      },
      "source": [
        "ps = pstats.Stats(prof)\n",
        "ps.print_stats()"
      ],
      "execution_count": null,
      "outputs": [
        {
          "output_type": "stream",
          "text": [
            "         8883051 function calls in 11.734 seconds\n",
            "\n",
            "   Random listing order was used\n",
            "\n",
            "   ncalls  tottime  percall  cumtime  percall filename:lineno(function)\n",
            "  1768275    0.286    0.000    0.286    0.000 {method 'get' of 'dict' objects}\n",
            "   504927    0.133    0.000    0.133    0.000 {method 'update' of 'dict' objects}\n",
            "    63002    0.015    0.000    0.015    0.000 {method 'copy' of 'list' objects}\n",
            "  1491382    0.194    0.000    0.194    0.000 {method 'append' of 'list' objects}\n",
            "     8794    0.003    0.000    0.003    0.000 {method 'extend' of 'list' objects}\n",
            "        1    0.000    0.000    0.000    0.000 {method 'sort' of 'list' objects}\n",
            "       10    0.000    0.000    0.000    0.000 {built-in method posix.getpid}\n",
            "       13    0.000    0.000    0.000    0.000 {method 'acquire' of '_thread.lock' objects}\n",
            "       13    0.000    0.000    0.000    0.000 {method 'append' of 'collections.deque' objects}\n",
            "        2    0.000    0.000    0.000    0.000 {built-in method builtins.compile}\n",
            "        2    0.000    0.000   14.176    7.088 {built-in method builtins.exec}\n",
            "       10    0.000    0.000    0.000    0.000 {built-in method builtins.isinstance}\n",
            "  1725602    0.158    0.000    0.158    0.000 {built-in method builtins.len}\n",
            "    63002    0.031    0.000    0.031    0.000 {built-in method builtins.max}\n",
            "        5    0.000    0.000    0.001    0.000 {built-in method builtins.print}\n",
            "     8794    0.064    0.000   13.977    0.002 <ipython-input-104-d3fcef3f343d>:59(expand)\n",
            "    54209    0.052    0.000    0.052    0.000 <ipython-input-104-d3fcef3f343d>:80(<listcomp>)\n",
            "    63002    0.068    0.000    0.166    0.000 <ipython-input-104-d3fcef3f343d>:77(update)\n",
            "    63002    0.134    0.000   13.395    0.000 <ipython-input-104-d3fcef3f343d>:13(__init__)\n",
            "        1    0.000    0.000    0.000    0.000 <ipython-input-108-03a4bca80259>:7(<module>)\n",
            "    63002    0.206    0.000   13.863    0.000 <ipython-input-104-d3fcef3f343d>:45(proceed)\n",
            "     8793    0.010    0.000    0.010    0.000 <ipython-input-104-d3fcef3f343d>:83(<listcomp>)\n",
            "   477737    1.905    0.000    1.949    0.000 <ipython-input-100-c5b88e328ea0>:97(compressor)\n",
            "  1008032    1.961    0.000    4.402    0.000 <ipython-input-100-c5b88e328ea0>:84(<listcomp>)\n",
            "    63002    0.156    0.000    0.156    0.000 <ipython-input-100-c5b88e328ea0>:78(<listcomp>)\n",
            "     8794    0.008    0.000    0.008    0.000 <ipython-input-103-c88a0d3660b5>:15(<listcomp>)\n",
            "    63002    1.451    0.000   13.240    0.000 <ipython-input-100-c5b88e328ea0>:74(val_matrix)\n",
            "     8794    0.041    0.000    0.050    0.000 <ipython-input-103-c88a0d3660b5>:13(DoItAll)\n",
            "   414735    0.448    0.000    2.156    0.000 <ipython-input-100-c5b88e328ea0>:66(checkHistory)\n",
            "   414735    1.647    0.000    5.038    0.000 <ipython-input-100-c5b88e328ea0>:27(outcome)\n",
            "       11    0.000    0.000    0.000    0.000 <ipython-input-104-d3fcef3f343d>:143(<lambda>)\n",
            "        1    0.028    0.028   14.175   14.175 <ipython-input-104-d3fcef3f343d>:123(lookForward)\n",
            "   538243    2.734    0.000    3.059    0.000 <ipython-input-100-c5b88e328ea0>:1(cluster)\n",
            "        1    0.001    0.001   14.176   14.176 <ipython-input-108-03a4bca80259>:5(<module>)\n",
            "       13    0.000    0.000    0.000    0.000 /usr/local/lib/python3.6/dist-packages/ipykernel/iostream.py:93(_event_pipe)\n",
            "       13    0.000    0.000    0.000    0.000 /usr/local/lib/python3.6/dist-packages/ipykernel/iostream.py:195(schedule)\n",
            "       10    0.000    0.000    0.000    0.000 /usr/local/lib/python3.6/dist-packages/ipykernel/iostream.py:307(_is_master_process)\n",
            "       10    0.000    0.000    0.000    0.000 /usr/local/lib/python3.6/dist-packages/ipykernel/iostream.py:320(_schedule_flush)\n",
            "       10    0.000    0.000    0.001    0.000 /usr/local/lib/python3.6/dist-packages/ipykernel/iostream.py:382(write)\n",
            "       13    0.000    0.000    0.000    0.000 /usr/local/lib/python3.6/dist-packages/zmq/sugar/socket.py:342(send)\n",
            "        1    0.000    0.000    0.000    0.000 {method 'disable' of '_lsprof.Profiler' objects}\n",
            "        2    0.000    0.000    0.000    0.000 /usr/local/lib/python3.6/dist-packages/IPython/core/hooks.py:139(__call__)\n",
            "        2    0.000    0.000    0.000    0.000 /usr/local/lib/python3.6/dist-packages/IPython/core/hooks.py:204(pre_run_code_hook)\n",
            "        2    0.000    0.000    0.000    0.000 /usr/local/lib/python3.6/dist-packages/IPython/core/interactiveshell.py:1067(user_global_ns)\n",
            "        2    0.000    0.000   14.176    7.088 /usr/local/lib/python3.6/dist-packages/IPython/core/interactiveshell.py:2852(run_code)\n",
            "        2    0.000    0.000    0.000    0.000 /usr/lib/python3.6/codeop.py:132(__call__)\n",
            "        2    0.000    0.000    0.000    0.000 /usr/local/lib/python3.6/dist-packages/IPython/utils/ipstruct.py:125(__getattr__)\n",
            "       13    0.000    0.000    0.000    0.000 /usr/lib/python3.6/threading.py:506(is_set)\n",
            "       13    0.000    0.000    0.000    0.000 /usr/lib/python3.6/threading.py:1062(_wait_for_tstate_lock)\n",
            "       13    0.000    0.000    0.000    0.000 /usr/lib/python3.6/threading.py:1104(is_alive)\n",
            "\n",
            "\n"
          ],
          "name": "stdout"
        },
        {
          "output_type": "execute_result",
          "data": {
            "text/plain": [
              "<pstats.Stats at 0x7faca6f134a8>"
            ]
          },
          "metadata": {
            "tags": []
          },
          "execution_count": 109
        }
      ]
    },
    {
      "cell_type": "code",
      "metadata": {
        "id": "kd4ILAfU1qmI",
        "colab": {
          "base_uri": "https://localhost:8080/",
          "height": 148
        },
        "outputId": "4ddd482e-a1f2-4184-f9a7-413d0b0986b5"
      },
      "source": [
        "#tree3 = GameTree(game3)\n",
        "tree3.digDeep(2,5,2)\n"
      ],
      "execution_count": null,
      "outputs": [
        {
          "output_type": "stream",
          "text": [
            "2\n",
            "18\n",
            "142\n",
            "963\n",
            "5868\n",
            "29059\n",
            "86025\n"
          ],
          "name": "stdout"
        }
      ]
    },
    {
      "cell_type": "code",
      "metadata": {
        "id": "tqhsEf6i5la2",
        "colab": {
          "base_uri": "https://localhost:8080/",
          "height": 373
        },
        "outputId": "49cc0784-4d2b-4204-86d2-691f78214fd3"
      },
      "source": [
        "tree3.displayTree(3)"
      ],
      "execution_count": null,
      "outputs": [
        {
          "output_type": "stream",
          "text": [
            "=1.0  \n",
            ".ox.  \n",
            "ox..  \n",
            "ox..  \n",
            "....  \n",
            "\n",
            "=1.1  =1.1  =1.1  =1.1  =1.1  =1.1  =1.1  =0.9  =0.4  \n",
            ".ox.  .ox.  .ox.  .ox.  .ox.  .ox.  .oxx  .ox.  .ox.  \n",
            "ox..  oxx.  ox.x  ox..  ox..  ox..  ox..  ox..  ox..  \n",
            "oxx.  ox..  ox..  ox.x  ox..  ox..  ox..  ox..  ox..  \n",
            "....  ....  ....  ....  .x..  ..x.  ....  ...x  x...  \n",
            "\n",
            "-3.4  -1.8  -1.8  -1.6  -1.7  -1.4  -2.3  -1.5  -1.4  -1.4  -3.2  -1.7  -1.6  -1.6  -1.6  -2.3  -1.4  -1.6  -1.5  -1.5  -3.2  -2.0  -1.4  -1.4  -2.3  -1.4  -1.4  -2.3  -3.2  -2.0  -1.5  -1.4  -1.4  -1.5  -2.0  -2.0  -1.4  -1.8  -3.2  -1.8  -1.8  -1.8  -3.2  -1.8  -1.5  -1.8  -3.2  -2.0  -1.8  -1.4  -2.3  -2.3  -2.0  -1.5  -3.2  -1.5  -1.3  -1.4  -1.5  -2.3  -1.5  -1.4  -1.4  -1.2  -1.5  -3.2  -1.6  -1.4  -1.4  -1.9  -1.2  -2.4  -2.4  -2.4  -0.5  -2.4  -2.4  -2.4  -2.4  \n",
            "oox.  .oxo  .ox.  .ox.  .ox.  .ox.  .ox.  .ox.  .ox.  .ox.  oox.  .oxo  .ox.  .ox.  .ox.  .ox.  .ox.  .ox.  .ox.  .ox.  oox.  .ox.  .ox.  .ox.  .ox.  .ox.  .ox.  .ox.  oox.  .oxo  .ox.  .ox.  .ox.  .ox.  .ox.  .oxo  .ox.  .ox.  oox.  .ox.  .ox.  .ox.  .ox.  .ox.  .ox.  .ox.  oox.  .oxo  .ox.  .ox.  .ox.  .ox.  .ox.  .oxx  ooxx  .oxx  .oxx  .oxx  .oxx  .oxx  .oxx  .oxx  .ox.  .ox.  .ox.  oox.  .oxo  .ox.  .ox.  .ox.  .ox.  .oxo  .ox.  .ox.  .ox.  .ox.  .ox.  .ox.  .ox.  \n",
            "ox..  ox..  ox..  ox..  oxo.  ox.o  ox..  ox..  ox..  oxx.  oxx.  oxx.  oxxo  oxx.  oxx.  oxx.  oxx.  oxx.  ox.x  ox.x  ox.x  oxox  ox.x  ox.x  ox.x  ox.x  ox.o  ox..  ox..  ox..  oxo.  ox..  ox..  ox..  ox..  ox..  oxo.  ox..  ox..  ox.o  ox..  ox..  ox..  ox..  oxo.  ox..  ox..  ox..  ox.o  ox..  ox..  ox..  ox..  ox..  ox..  oxo.  ox.o  ox..  ox..  ox..  ox..  ox..  ox.o  ox..  ox..  ox..  ox..  oxo.  ox..  ox..  ox..  ox..  oxo.  ox..  ox..  ox..  ox.o  ox..  ox..  \n",
            "oxx.  oxx.  oxxo  oxx.  oxx.  oxx.  oxx.  oxx.  oxx.  ox..  ox..  ox..  ox..  oxo.  ox.o  ox..  ox..  ox..  ox..  ox..  ox..  ox..  oxo.  ox.o  ox..  ox..  ox.x  ox.x  ox.x  ox.x  ox.x  oxox  ox.x  ox.x  ox.x  ox..  ox..  ox..  ox..  ox..  oxo.  ox.o  ox..  ox..  ox..  ox.o  ox..  ox..  ox..  oxo.  ox..  ox..  ox..  ox..  ox..  ox..  ox..  oxo.  ox.o  ox..  ox..  ox..  ox..  ox.o  ox..  ox..  ox..  ox..  oxo.  ox..  ox..  ox..  ox..  oxo.  ox..  ox..  ox..  ox.o  ox..  \n",
            "....  ....  ....  ..o.  ....  ....  o...  .o..  ...o  .o..  ....  ....  ....  ....  ....  o...  ..o.  ...o  .o..  ...o  ....  ....  ....  ....  o...  ..o.  ....  o...  ....  ....  ....  ....  .o..  ..o.  ...o  .x..  .x..  .x.o  .x..  .x..  .x..  .x..  ox..  .xo.  ..x.  ..x.  ..x.  ..x.  ..x.  ..x.  o.x.  .ox.  ..xo  ...o  ....  ....  ....  ....  ....  o...  .o..  ..o.  ...x  ...x  .o.x  ...x  ...x  ...x  ...x  o..x  ..ox  x...  x...  x...  .o..  x.o.  x...  x...  x..o  \n",
            "\n"
          ],
          "name": "stdout"
        }
      ]
    },
    {
      "cell_type": "code",
      "metadata": {
        "id": "ROMrmq6w6Wif",
        "colab": {
          "base_uri": "https://localhost:8080/",
          "height": 54
        },
        "outputId": "1db1a413-5a94-43c3-d42b-e93f48352ed4"
      },
      "source": [
        "tree3.move(0,1)"
      ],
      "execution_count": null,
      "outputs": [
        {
          "output_type": "stream",
          "text": [
            "found node, proceeding\n"
          ],
          "name": "stdout"
        },
        {
          "output_type": "execute_result",
          "data": {
            "text/plain": [
              "True"
            ]
          },
          "metadata": {
            "tags": []
          },
          "execution_count": 30
        }
      ]
    },
    {
      "cell_type": "code",
      "metadata": {
        "id": "kbOsILcjI02S",
        "colab": {
          "base_uri": "https://localhost:8080/",
          "height": 241
        },
        "outputId": "d269b742-913b-4178-ad15-e2ab5dfdeafe"
      },
      "source": [
        "tree3.displayTree(2)"
      ],
      "execution_count": null,
      "outputs": [
        {
          "output_type": "stream",
          "text": [
            "=0.0  \n",
            "xxx.  \n",
            ".x.o  \n",
            "oxxo  \n",
            "xxxo  \n",
            "\n",
            "-4.2  -4.3  \n",
            "xxxo  xxx.  \n",
            ".x.o  .xoo  \n",
            "oxxo  oxxo  \n",
            "xxxo  xxxo  \n",
            "\n"
          ],
          "name": "stdout"
        }
      ]
    },
    {
      "cell_type": "code",
      "metadata": {
        "id": "crTqFW2dCz4i",
        "colab": {
          "base_uri": "https://localhost:8080/",
          "height": 373
        },
        "outputId": "a6ccea07-7cce-4d25-a4e4-3b8e667b2c5f"
      },
      "source": [
        "tree3.displayTree(3)"
      ],
      "execution_count": null,
      "outputs": [
        {
          "output_type": "stream",
          "text": [
            "=1.0  \n",
            ".ox.  \n",
            "ox..  \n",
            "ox..  \n",
            "....  \n",
            "\n",
            "=1.5  =1.4  =1.0  =1.0  =0.9  =0.9  =0.9  =0.9  =0.3  \n",
            ".ox.  .ox.  .ox.  .ox.  .oxx  .ox.  .ox.  .ox.  .ox.  \n",
            "ox..  ox..  ox..  ox.x  ox..  oxx.  ox..  ox..  ox..  \n",
            "oxx.  ox..  ox..  ox..  ox..  ox..  ox.x  ox..  ox..  \n",
            "....  .x..  ..x.  ....  ....  ....  ....  ...x  x...  \n",
            "\n",
            "-3.7  -2.0  -2.1  -1.8  -2.0  -2.7  -1.8  -2.1  -2.0  -1.8  -1.8  -3.5  -1.8  -1.7  -1.8  -1.8  -3.5  -1.9  -1.5  -2.3  -3.2  -1.3  -1.3  -1.8  -1.4  -2.3  -1.4  -1.7  -1.4  -2.3  -1.4  -3.2  -1.2  -1.4  -1.4  -1.4  -1.2  -3.2  -1.3  -1.3  -1.4  -2.3  -1.2  -1.4  -1.7  -1.4  -1.4  -3.2  -1.4  -1.2  -2.3  -1.5  -1.4  -1.2  -1.4  -1.4  -3.2  -1.7  -1.2  -2.1  -1.4  -1.4  -3.2  -1.3  -1.2  -1.4  -1.4  -1.2  -1.9  -1.2  -1.4  -2.4  -0.4  -2.4  -2.8  -2.4  -2.4  -2.4  -2.4  \n",
            "oox.  .oxo  .ox.  .ox.  .ox.  .ox.  .ox.  .ox.  .ox.  .ox.  .ox.  oox.  .oxo  .ox.  .ox.  .ox.  .ox.  .ox.  .ox.  .ox.  oox.  .oxo  .ox.  .ox.  .ox.  .ox.  .ox.  .ox.  .ox.  .ox.  .ox.  oox.  .ox.  .ox.  .ox.  .oxx  .oxx  ooxx  .oxx  .oxx  .oxx  .oxx  .oxx  .oxx  .oxo  .ox.  .ox.  oox.  .ox.  .ox.  .ox.  .ox.  .ox.  .ox.  .ox.  .ox.  oox.  .oxo  .ox.  .ox.  .ox.  .ox.  oox.  .oxo  .ox.  .ox.  .ox.  .ox.  .ox.  .ox.  .ox.  .ox.  .ox.  .ox.  .oxo  .ox.  .ox.  .ox.  .ox.  \n",
            "ox..  ox..  oxo.  ox.o  ox..  ox..  ox..  ox..  ox..  ox..  ox..  ox..  ox..  oxo.  ox.o  ox..  ox..  ox..  ox..  ox..  ox..  ox..  oxo.  ox.o  ox..  ox..  ox..  oxox  ox.x  ox.x  ox.x  ox.x  ox.x  ox.x  ox.x  ox..  ox..  ox..  oxo.  ox.o  ox..  ox..  ox..  ox..  oxx.  oxx.  oxx.  oxx.  oxxo  oxx.  oxx.  oxx.  oxx.  oxo.  ox.o  ox..  ox..  ox..  ox..  ox..  ox..  ox..  ox..  ox..  oxo.  ox.o  ox..  ox..  ox..  ox..  ox..  oxo.  ox..  ox..  ox..  ox.o  ox..  ox..  ox..  \n",
            "oxx.  oxx.  oxx.  oxx.  oxxo  oxx.  oxx.  oxx.  oxx.  oxo.  ox..  ox..  ox..  ox..  ox..  ox.o  ox..  ox..  ox.o  ox..  ox..  ox..  ox..  ox..  oxo.  ox..  ox..  ox..  oxo.  ox..  ox..  ox..  ox.o  ox..  ox..  oxo.  ox..  ox..  ox..  ox..  ox.o  ox..  ox..  ox..  ox..  oxo.  ox..  ox..  ox..  ox.o  ox..  ox..  ox..  ox.x  ox.x  ox.x  ox.x  ox.x  oxox  ox.x  ox.x  ox.x  ox..  ox..  ox..  ox..  oxo.  ox.o  ox..  ox..  ox..  ox..  ox..  ox..  ox..  ox..  oxo.  ox.o  ox..  \n",
            "....  ....  ....  ....  ....  o...  .o..  ..o.  ...o  .x..  .x.o  .x..  .x..  .x..  .x..  .x..  ox..  .xo.  ..x.  o.x.  ..x.  ..x.  ..x.  ..x.  ..x.  .ox.  ..xo  ....  ....  o...  ...o  ....  ....  .o..  ..o.  ....  ...o  ....  ....  ....  ....  o...  .o..  ..o.  ....  ....  ..o.  ....  ....  ....  o...  .o..  ...o  ....  ....  .o..  ....  ....  ....  o...  ..o.  ...o  ...x  ...x  ...x  ...x  ...x  ...x  o..x  .o.x  ..ox  x...  .o..  x..o  x...  x...  x...  x...  x.o.  \n",
            "\n"
          ],
          "name": "stdout"
        }
      ]
    },
    {
      "cell_type": "code",
      "metadata": {
        "id": "pobrVJ0GDDfC",
        "colab": {
          "base_uri": "https://localhost:8080/",
          "height": 54
        },
        "outputId": "4414e20c-3779-4b81-c2fa-bf7f82277a10"
      },
      "source": [
        "history = [[[1,0,0,1],[0,0,1,1]],[[1,1,1,1],[0,0,0,0]]]\n",
        "h2 = history[-1:]\n",
        "h2.append([[1,1,1,1],[0,1,0,1]])\n",
        "print(h2)\n",
        "print(history)"
      ],
      "execution_count": null,
      "outputs": [
        {
          "output_type": "stream",
          "text": [
            "[[[1, 1, 1, 1], [0, 0, 0, 0]], [[1, 1, 1, 1], [0, 1, 0, 1]]]\n",
            "[[[1, 0, 0, 1], [0, 0, 1, 1]], [[1, 1, 1, 1], [0, 0, 0, 0]]]\n"
          ],
          "name": "stdout"
        }
      ]
    },
    {
      "cell_type": "code",
      "metadata": {
        "id": "6yYxQNXWDVWY",
        "colab": {
          "base_uri": "https://localhost:8080/",
          "height": 764
        },
        "outputId": "c07e4247-65ce-41ad-a197-6e006429a403"
      },
      "source": [
        "game3.replay(tree3.head.history)"
      ],
      "execution_count": null,
      "outputs": [
        {
          "output_type": "stream",
          "text": [
            "0:\n",
            "\n",
            "Score: B/1  W/0\n",
            "- o x - \n",
            "- x - - \n",
            "- - - - \n",
            "- - - - \n",
            "\n",
            "1:\n",
            "\n",
            "Score: B/1  W/0\n",
            "- o x - \n",
            "- x - - \n",
            "o - - - \n",
            "- - - - \n",
            "\n",
            "2:\n",
            "\n",
            "Score: B/1  W/0\n",
            "x - x - \n",
            "- x - - \n",
            "o - - - \n",
            "- - - - \n",
            "\n",
            "3:\n",
            "\n",
            "Score: B/1  W/0\n",
            "x - x - \n",
            "o x - - \n",
            "o - - - \n",
            "- - - - \n",
            "\n",
            "4:\n",
            "\n",
            "Score: B/1  W/0\n",
            "x - x - \n",
            "o x - - \n",
            "o x - - \n",
            "- - - - \n",
            "\n"
          ],
          "name": "stdout"
        }
      ]
    },
    {
      "cell_type": "code",
      "metadata": {
        "id": "1g9YPdlIKZ0Q",
        "colab": {
          "base_uri": "https://localhost:8080/",
          "height": 278
        },
        "outputId": "949e50c5-4740-4b4b-9dba-b88b644faa27"
      },
      "source": [
        "tmp_mat = val_matrix(tree3.head.board,0,tree3.head.history)\n",
        "doMatrix = 1 / (tmp_mat + 9)\n",
        "#doMatrix = PromAndRandom(tmp_mat)\n",
        "print(doMatrix)\n",
        "for i in range(4):\n",
        "  for j in range(4):\n",
        "    if doMatrix[i,j]:\n",
        "      print(i,j)"
      ],
      "execution_count": null,
      "outputs": [
        {
          "output_type": "stream",
          "text": [
            "[[ 0.1        -0.         -0.          0.11111111]\n",
            " [-0.         -0.          0.11111111  0.11111111]\n",
            " [-0.         -0.          0.11111111  0.11111111]\n",
            " [ 0.11111111  0.11111111  0.11111111  0.11111111]]\n",
            "0 0\n",
            "0 3\n",
            "1 2\n",
            "1 3\n",
            "2 2\n",
            "2 3\n",
            "3 0\n",
            "3 1\n",
            "3 2\n",
            "3 3\n"
          ],
          "name": "stdout"
        }
      ]
    },
    {
      "cell_type": "code",
      "metadata": {
        "id": "5Kxh1KgGx7K9",
        "colab": {
          "base_uri": "https://localhost:8080/",
          "height": 92
        },
        "outputId": "669bbe16-4bdc-4f41-9a3e-28dd82bae6f0"
      },
      "source": [
        "val_matrix(tree3.head.board, 0, tree3.head.history)"
      ],
      "execution_count": null,
      "outputs": [
        {
          "output_type": "execute_result",
          "data": {
            "text/plain": [
              "array([[  1., -inf, -inf,   0.],\n",
              "       [-inf, -inf,   0.,   0.],\n",
              "       [-inf, -inf,   0.,   0.],\n",
              "       [  0.,   0.,   0.,   0.]])"
            ]
          },
          "metadata": {
            "tags": []
          },
          "execution_count": 225
        }
      ]
    },
    {
      "cell_type": "code",
      "metadata": {
        "id": "CeO-KnpnyP8V",
        "colab": {
          "base_uri": "https://localhost:8080/",
          "height": 92
        },
        "outputId": "c62929dc-47ae-4ad0-e796-74913c792789"
      },
      "source": [
        "val_matrix(game3.board, 0, game3.history)"
      ],
      "execution_count": null,
      "outputs": [
        {
          "output_type": "execute_result",
          "data": {
            "text/plain": [
              "array([[-inf,   0., -inf,   0.],\n",
              "       [-inf, -inf,   0.,   0.],\n",
              "       [-inf, -inf,   0.,   0.],\n",
              "       [  0.,   0.,   0.,   0.]])"
            ]
          },
          "metadata": {
            "tags": []
          },
          "execution_count": 228
        }
      ]
    },
    {
      "cell_type": "code",
      "metadata": {
        "id": "JCM7oB_7AFfs",
        "colab": {
          "base_uri": "https://localhost:8080/",
          "height": 372
        },
        "outputId": "f4a91c26-c4dd-4865-8092-2aa157120a3b"
      },
      "source": [
        "treee = GameTree(game4)\n",
        "treee.lookForward(3, 4)\n",
        "treee.displayTree(2,0)"
      ],
      "execution_count": null,
      "outputs": [
        {
          "output_type": "stream",
          "text": [
            "10\n",
            "98\n",
            "788\n",
            "2468\n",
            "6383\n",
            "14807\n",
            "32707\n",
            "=0.0  \n",
            "..x.  \n",
            ".xo.  \n",
            ".xo.  \n",
            ".o..  \n",
            "\n",
            "=0.0  =0.0  -0.7  -0.3  -0.4  =0.1  -0.4  -0.7  -0.8  -0.2  \n",
            "x.x.  .xx.  ..xx  ..x.  ..x.  ..x.  ..x.  ..x.  ..x.  ..x.  \n",
            ".xo.  .xo.  .xo.  xxo.  .xox  .xo.  .xo.  .xo.  .xo.  .xo.  \n",
            ".xo.  .xo.  .xo.  .xo.  .xo.  xxo.  .xox  .xo.  .xo.  .xo.  \n",
            ".o..  .o..  .o..  .o..  .o..  .o..  .o..  xo..  .ox.  .o.x  \n",
            "\n"
          ],
          "name": "stdout"
        }
      ]
    },
    {
      "cell_type": "code",
      "metadata": {
        "id": "aIsZ3j_YIzpI",
        "colab": {
          "base_uri": "https://localhost:8080/",
          "height": 334
        },
        "outputId": "1c188665-4be5-4c8e-8a8f-9d299a51ab26"
      },
      "source": [
        "treee = GameTree(game4)\n",
        "treee.lookForward(3,2)\n",
        "treee.displayTree(2,0)"
      ],
      "execution_count": null,
      "outputs": [
        {
          "output_type": "stream",
          "text": [
            "10\n",
            "98\n",
            "788\n",
            "2429\n",
            "6207\n",
            "=0.0  \n",
            "..x.  \n",
            ".xo.  \n",
            ".xo.  \n",
            ".o..  \n",
            "\n",
            "=0.0  =0.0  -0.0  =0.0  -0.4  =0.1  -0.5  -0.7  -0.4  -0.5  \n",
            "x.x.  .xx.  ..xx  ..x.  ..x.  ..x.  ..x.  ..x.  ..x.  ..x.  \n",
            ".xo.  .xo.  .xo.  xxo.  .xox  .xo.  .xo.  .xo.  .xo.  .xo.  \n",
            ".xo.  .xo.  .xo.  .xo.  .xo.  xxo.  .xox  .xo.  .xo.  .xo.  \n",
            ".o..  .o..  .o..  .o..  .o..  .o..  .o..  xo..  .ox.  .o.x  \n",
            "\n"
          ],
          "name": "stdout"
        }
      ]
    },
    {
      "cell_type": "code",
      "metadata": {
        "id": "1b2Qua5Ptmjx",
        "colab": {
          "base_uri": "https://localhost:8080/",
          "height": 36
        },
        "outputId": "b80674de-b319-46a4-8ce6-601931e10e65"
      },
      "source": [
        "tree.head.proceed(0,3)\n",
        "tree.head.children[1].last() == (3,2)"
      ],
      "execution_count": null,
      "outputs": [
        {
          "output_type": "execute_result",
          "data": {
            "text/plain": [
              "False"
            ]
          },
          "metadata": {
            "tags": []
          },
          "execution_count": 163
        }
      ]
    },
    {
      "cell_type": "code",
      "metadata": {
        "id": "tzoI_KHnSKQv",
        "colab": {
          "base_uri": "https://localhost:8080/",
          "height": 54
        },
        "outputId": "7e8ee278-22dd-4a9e-f772-2fb595ea099f"
      },
      "source": [
        "b1 = np.matrix(f'''\n",
        "1  0;\n",
        "1  2\n",
        "''')\n",
        "b3 = np.full((3,3), np.NINF)\n",
        "b3 [1,1] = 5\n",
        "b2 = np.matrix('''\n",
        "2  1;\n",
        "2  1\n",
        "''')\n",
        "b1 == b2"
      ],
      "execution_count": null,
      "outputs": [
        {
          "output_type": "execute_result",
          "data": {
            "text/plain": [
              "matrix([[False, False],\n",
              "        [False, False]])"
            ]
          },
          "metadata": {
            "tags": []
          },
          "execution_count": 22
        }
      ]
    },
    {
      "cell_type": "code",
      "metadata": {
        "id": "JitR4rveWeL7",
        "colab": {
          "base_uri": "https://localhost:8080/",
          "height": 353
        },
        "outputId": "84588a40-a71b-4a84-a8f8-c813f6b4cc44"
      },
      "source": [
        "board = np.matrix('''\n",
        "-1  0  0  1 -1;\n",
        "1  1  0  1  1;\n",
        "1  1  1  0  0;\n",
        "0  0  1  0  1;\n",
        "1  0  1  0  1\n",
        "''')\n",
        "\n",
        "def printb(board):\n",
        "  for i in range(5):\n",
        "    for j in range(5):\n",
        "      if board[i,j] >= 0:\n",
        "        if not board[i,j]:\n",
        "          print('x', end = \" \")\n",
        "        else:\n",
        "          print('o', end = \" \")\n",
        "      else:\n",
        "        print('.', end = ' ')\n",
        "    print()\n",
        "\n",
        "\n",
        "for i in range(5):\n",
        "  for j in range(5):\n",
        "    if board[i, j] >= 0:\n",
        "      rec, lib = cluster(board, i, j, {})\n",
        "      print(int(lib), end = \" \")\n",
        "    else:\n",
        "      print(\"-\", end=' ')\n",
        "  print()\n",
        "\n",
        "print()\n",
        "\n",
        "printb(board)\n",
        "\n",
        "print()\n",
        "a,b = outcome(board, 3, 3)\n",
        "\n",
        "printb(b)\n",
        "print(a)"
      ],
      "execution_count": null,
      "outputs": [
        {
          "output_type": "stream",
          "text": [
            "- 1 1 1 - \n",
            "1 1 1 1 1 \n",
            "1 1 1 0 0 \n",
            "0 0 1 0 0 \n",
            "0 0 1 0 0 \n",
            "\n",
            ". x x o . \n",
            "o o x o o \n",
            "o o o x x \n",
            "x x o x o \n",
            "o x o x o \n",
            "\n",
            ". x x o . \n",
            "o o x o o \n",
            "o o o x x \n",
            "x x o x . \n",
            "o x o x . \n",
            "2\n"
          ],
          "name": "stdout"
        }
      ]
    },
    {
      "cell_type": "code",
      "metadata": {
        "id": "B1NQvzWZWzex",
        "colab": {
          "base_uri": "https://localhost:8080/",
          "height": 54
        },
        "outputId": "b24f3750-9171-45b1-8fb6-d0620a5d382e"
      },
      "source": [
        "_dic = {'a,b':5, 'b,c':6}\n",
        "for i in _dic:\n",
        "  tmp = i.split(',')\n",
        "  print(tmp[0])"
      ],
      "execution_count": null,
      "outputs": [
        {
          "output_type": "stream",
          "text": [
            "a\n",
            "b\n"
          ],
          "name": "stdout"
        }
      ]
    },
    {
      "cell_type": "code",
      "metadata": {
        "id": "RI3pacu_lQsH",
        "colab": {
          "base_uri": "https://localhost:8080/",
          "height": 726
        },
        "outputId": "e0ddef3c-0a36-4cfd-aa2e-10955fd3609f"
      },
      "source": [
        "_n = np.full((5,5), -1)\n",
        "print(_n)\n",
        "for i in  game1.history[-3:]:\n",
        "  if np.array_equal(i, _n):\n",
        "    print('Yes')\n",
        "    print(np.matrix(i))\n",
        "\n",
        "print(game1.history)"
      ],
      "execution_count": null,
      "outputs": [
        {
          "output_type": "stream",
          "text": [
            "[[-1 -1 -1 -1 -1]\n",
            " [-1 -1 -1 -1 -1]\n",
            " [-1 -1 -1 -1 -1]\n",
            " [-1 -1 -1 -1 -1]\n",
            " [-1 -1 -1 -1 -1]]\n",
            "[array([[-1, -1, -1, -1, -1],\n",
            "       [-1, -1, -1, -1, -1],\n",
            "       [-1, -1, -1, -1, -1],\n",
            "       [-1, -1, -1, -1, -1],\n",
            "       [-1, -1, -1, -1, -1]]), array([[-1,  0, -1, -1, -1],\n",
            "       [-1, -1, -1, -1, -1],\n",
            "       [-1, -1, -1, -1, -1],\n",
            "       [-1, -1, -1, -1, -1],\n",
            "       [-1, -1, -1, -1, -1]]), array([[-1,  0, -1,  1, -1],\n",
            "       [-1, -1, -1, -1, -1],\n",
            "       [-1, -1, -1, -1, -1],\n",
            "       [-1, -1, -1, -1, -1],\n",
            "       [-1, -1, -1, -1, -1]]), array([[-1,  0, -1,  1, -1],\n",
            "       [-1, -1, -1, -1, -1],\n",
            "       [-1, -1, -1, -1, -1],\n",
            "       [ 0, -1, -1, -1, -1],\n",
            "       [-1, -1, -1, -1, -1]]), array([[-1, -1, -1, -1, -1],\n",
            "       [-1, -1, -1, -1, -1],\n",
            "       [-1, -1, -1, -1, -1],\n",
            "       [-1, -1, -1, -1, -1],\n",
            "       [-1, -1, -1, -1, -1]]), array([[-1,  0, -1, -1, -1],\n",
            "       [-1, -1, -1, -1, -1],\n",
            "       [-1, -1, -1, -1, -1],\n",
            "       [-1, -1, -1, -1, -1],\n",
            "       [-1, -1, -1, -1, -1]]), array([[-1,  0, -1,  1, -1],\n",
            "       [-1, -1, -1, -1, -1],\n",
            "       [-1, -1, -1, -1, -1],\n",
            "       [-1, -1, -1, -1, -1],\n",
            "       [-1, -1, -1, -1, -1]]), array([[-1,  0, -1,  1, -1],\n",
            "       [-1, -1, -1, -1, -1],\n",
            "       [-1, -1, -1, -1, -1],\n",
            "       [ 0, -1, -1, -1, -1],\n",
            "       [-1, -1, -1, -1, -1]])]\n"
          ],
          "name": "stdout"
        }
      ]
    },
    {
      "cell_type": "code",
      "metadata": {
        "id": "JKnOjLJtwIo0"
      },
      "source": [
        ""
      ],
      "execution_count": null,
      "outputs": []
    }
  ]
}